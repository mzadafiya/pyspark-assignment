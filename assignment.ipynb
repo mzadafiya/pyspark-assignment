{
 "cells": [
  {
   "cell_type": "markdown",
   "id": "1cf3941b",
   "metadata": {},
   "source": [
    "# Fetch All Latest Covid Data\n",
    "* Create account on RapidAPI and subscribe to \"https://rapidapi.com/ShubhGupta/api/covid19-data/\" and get XRapidAPIKey\n",
    "* Store CODE_HOME and XRAPIDAPIKEY as environment variable\n",
    "* Use \"all\" endpoint to get latest covid data for all countries and store it in latest-covid-data.csv at ASSIGNMENTPATH"
   ]
  },
  {
   "cell_type": "code",
   "execution_count": 37,
   "id": "8984a1b6",
   "metadata": {},
   "outputs": [
    {
     "name": "stdout",
     "output_type": "stream",
     "text": [
      "[{\"countrycode\":\"AD\",\"country\":\"Andorra\",\"latitude\":\"42.5063\",\"longitude\":\"1.5218\",\"confirmed\":852,\"deaths\":51,\"recovered\":757,\"active\":44},{\"countrycode\":\"AE\",\"country\":\"United Arab Emirates\",\"latitude\":\"23.424076\",\"longitude\":\"53.847818\",\"confirmed\":39904,\"deaths\":283,\"recovered\":22740,\"active\":16881},{\"countrycode\":\"AF\",\"country\":\"Afghanistan\",\"latitude\":\"33.93911\",\"longitude\":\"67.709953\",\"confirmed\":21459,\"deaths\":384,\"recovered\":2651,\"active\":18424},{\"countrycode\":\"AG\",\"country\":\"Antigua and Barbuda\",\"latitude\":\"17.0608\",\"longitude\":\"-61.7964\",\"confirmed\":26,\"deaths\":3,\"recovered\":20,\"active\":3},{\"countrycode\":\"AL\",\"country\":\"Albania\",\"latitude\":\"41.1533\",\"longitude\":\"20.1683\",\"confirmed\":1299,\"deaths\":34,\"recovered\":960,\"active\":305},{\"countrycode\":\"AM\",\"country\":\"Armenia\",\"latitude\":\"40.0691\",\"longitude\":\"45.0382\",\"confirmed\":13675,\"deaths\":217,\"recovered\":4451,\"active\":9007},{\"countrycode\":\"AO\",\"country\":\"Angola\",\"latitude\":\"-11.2027\",\"longitude\":\"17.8739\",\"confirmed\":96,\"deaths\":4,\"recovered\":38,\"active\":54},{\"countrycode\":\"AR\",\"country\":\"Argentina\",\"latitude\":\"-38.4161\",\"longitude\":\"-63.6167\",\"confirmed\":24761,\"deaths\":717,\"recovered\":7568,\"active\":16476},{\"countrycode\":\"AT\",\"country\":\"Austria\",\"latitude\":\"47.5162\",\"longitude\":\"14.5501\",\"confirmed\":16979,\"deaths\":672,\"recovered\":15875,\"active\":432},{\"countrycode\":\"AU\",\"country\":\"Australia\",\"latitude\":\"-25.274398\",\"longitude\":\"133.775136\",\"confirmed\":7274,\"deaths\":102,\"recovered\":6740,\"active\":432},{\"countrycode\":\"AZ\",\"country\":\"Azerbaijan\",\"latitude\":\"40.1431\",\"longitude\":\"47.5769\",\"confirmed\":8191,\"deaths\":98,\"recovered\":4606,\"active\":3487},{\"countrycode\":\"BA\",\"country\":\"Bosnia and Herzegovina\",\"latitude\":\"43.9159\",\"longitude\":\"17.6791\",\"confirmed\":2728,\"deaths\":160,\"recovered\":2049,\"active\":519},{\"countrycode\":\"BB\",\"country\":\"Barbados\",\"latitude\":\"13.1939\",\"longitude\":\"-59.5432\",\"confirmed\":92,\"deaths\":7,\"recovered\":81,\"active\":4},{\"countrycode\":\"BD\",\"country\":\"Bangladesh\",\"latitude\":\"23.685\",\"longitude\":\"90.3563\",\"confirmed\":71675,\"deaths\":975,\"recovered\":15337,\"active\":55363},{\"countrycode\":\"BE\",\"country\":\"Belgium\",\"latitude\":\"50.8333\",\"longitude\":\"4.469936\",\"confirmed\":59437,\"deaths\":9619,\"recovered\":16324,\"active\":33494},{\"countrycode\":\"BF\",\"country\":\"Burkina Faso\",\"latitude\":\"12.2383\",\"longitude\":\"-1.5616\",\"confirmed\":891,\"deaths\":53,\"recovered\":765,\"active\":73},{\"countrycode\":\"BG\",\"country\":\"Bulgaria\",\"latitude\":\"42.7339\",\"longitude\":\"25.4858\",\"confirmed\":2889,\"deaths\":167,\"recovered\":1623,\"active\":1099},{\"countrycode\":\"BH\",\"country\":\"Bahrain\",\"latitude\":\"26.0275\",\"longitude\":\"50.55\",\"confirmed\":15731,\"deaths\":29,\"recovered\":10606,\"active\":5096},{\"countrycode\":\"BI\",\"country\":\"Burundi\",\"latitude\":\"-3.3731\",\"longitude\":\"29.9189\",\"confirmed\":83,\"deaths\":1,\"recovered\":45,\"active\":37},{\"countrycode\":\"BJ\",\"country\":\"Benin\",\"latitude\":\"9.3077\",\"longitude\":\"2.3158\",\"confirmed\":305,\"deaths\":4,\"recovered\":188,\"active\":113},{\"countrycode\":\"BO\",\"country\":\"Bolivia\",\"latitude\":\"-16.2902\",\"longitude\":\"-63.5887\",\"confirmed\":14644,\"deaths\":487,\"recovered\":2190,\"active\":11967},{\"countrycode\":\"BR\",\"country\":\"Brazil\",\"latitude\":\"-14.235004\",\"longitude\":\"-51.92528\",\"confirmed\":739503,\"deaths\":38406,\"recovered\":396737,\"active\":304360},{\"countrycode\":\"BS\",\"country\":\"Bahamas\",\"latitude\":\"25.025885\",\"longitude\":\"-78.035889\",\"confirmed\":103,\"deaths\":11,\"recovered\":64,\"active\":28},{\"countrycode\":\"BT\",\"country\":\"Bhutan\",\"latitude\":\"27.5142\",\"longitude\":\"90.4336\",\"confirmed\":59,\"deaths\":0,\"recovered\":17,\"active\":42},{\"countrycode\":\"BW\",\"country\":\"Botswana\",\"latitude\":\"-22.3285\",\"longitude\":\"24.6849\",\"confirmed\":42,\"deaths\":1,\"recovered\":24,\"active\":17},{\"countrycode\":\"BY\",\"country\":\"Belarus\",\"latitude\":\"53.7098\",\"longitude\":\"27.9534\",\"confirmed\":50265,\"deaths\":282,\"recovered\":24506,\"active\":25477},{\"countrycode\":\"BZ\",\"country\":\"Belize\",\"latitude\":\"17.1899\",\"longitude\":\"-88.4976\",\"confirmed\":20,\"deaths\":2,\"recovered\":16,\"active\":2},{\"countrycode\":\"CA\",\"country\":\"Canada\",\"latitude\":\"56.130366\",\"longitude\":\"-106.346771\",\"confirmed\":98241,\"deaths\":7970,\"recovered\":56117,\"active\":34154},{\"countrycode\":\"CD\",\"country\":\"DR Congo\",\"latitude\":\"-4.0383\",\"longitude\":\"21.7587\",\"confirmed\":4259,\"deaths\":90,\"recovered\":539,\"active\":3630},{\"countrycode\":\"CF\",\"country\":\"Central African Republic\",\"latitude\":\"6.6111\",\"longitude\":\"20.9394\",\"confirmed\":1850,\"deaths\":5,\"recovered\":38,\"active\":1807},{\"countrycode\":\"CG\",\"country\":\"Republic of the Congo\",\"latitude\":\"-0.228\",\"longitude\":\"15.8277\",\"confirmed\":728,\"deaths\":24,\"recovered\":221,\"active\":483},{\"countrycode\":\"CH\",\"country\":\"Switzerland\",\"latitude\":\"46.8182\",\"longitude\":\"8.2275\",\"confirmed\":30988,\"deaths\":1934,\"recovered\":28700,\"active\":354},{\"countrycode\":\"CL\",\"country\":\"Chile\",\"latitude\":\"-35.675147\",\"longitude\":\"-71.542969\",\"confirmed\":142759,\"deaths\":2283,\"recovered\":0,\"active\":23115},{\"countrycode\":\"CM\",\"country\":\"Cameroon\",\"latitude\":\"3.848\",\"longitude\":\"11.5021\",\"confirmed\":8312,\"deaths\":212,\"recovered\":4794,\"active\":3306},{\"countrycode\":\"CN\",\"country\":\"China\",\"latitude\":\"35.86166\",\"longitude\":\"104.195397\",\"confirmed\":84198,\"deaths\":4638,\"recovered\":79451,\"active\":109},{\"countrycode\":\"CO\",\"country\":\"Colombia\",\"latitude\":\"4.570868\",\"longitude\":\"-74.297333\",\"confirmed\":40847,\"deaths\":1373,\"recovered\":16459,\"active\":23015},{\"countrycode\":\"CR\",\"country\":\"Costa Rica\",\"latitude\":\"9.7489\",\"longitude\":\"-83.7534\",\"confirmed\":1375,\"deaths\":11,\"recovered\":717,\"active\":647},{\"countrycode\":\"CU\",\"country\":\"Cuba\",\"latitude\":\"21.521757\",\"longitude\":\"-77.781167\",\"confirmed\":2205,\"deaths\":83,\"recovered\":1880,\"active\":242},{\"countrycode\":\"CV\",\"country\":\"Cabo Verde\",\"latitude\":\"16.5388\",\"longitude\":\"-23.0418\",\"confirmed\":585,\"deaths\":5,\"recovered\":270,\"active\":310},{\"countrycode\":\"CY\",\"country\":\"Cyprus\",\"latitude\":\"35.1264\",\"longitude\":\"33.4299\",\"confirmed\":972,\"deaths\":18,\"recovered\":807,\"active\":147},{\"countrycode\":\"CZ\",\"country\":\"Czechia\",\"latitude\":\"49.8175\",\"longitude\":\"15.473\",\"confirmed\":9751,\"deaths\":328,\"recovered\":7053,\"active\":2370},{\"countrycode\":\"DE\",\"country\":\"Germany\",\"latitude\":\"51.165691\",\"longitude\":\"10.451526\",\"confirmed\":186506,\"deaths\":8736,\"recovered\":170129,\"active\":7641},{\"countrycode\":\"DJ\",\"country\":\"Djibouti\",\"latitude\":\"11.8251\",\"longitude\":\"42.5903\",\"confirmed\":4331,\"deaths\":34,\"recovered\":2139,\"active\":2158},{\"countrycode\":\"DK\",\"country\":\"Denmark\",\"latitude\":\"56.2639\",\"longitude\":\"9.5018\",\"confirmed\":12001,\"deaths\":593,\"recovered\":10849,\"active\":559},{\"countrycode\":\"DM\",\"country\":\"Dominica\",\"latitude\":\"15.415\",\"longitude\":\"-61.371\",\"confirmed\":18,\"deaths\":0,\"recovered\":16,\"active\":2},{\"countrycode\":\"DO\",\"country\":\"Dominican Republic\",\"latitude\":\"18.7357\",\"longitude\":\"-70.1627\",\"confirmed\":20415,\"deaths\":544,\"recovered\":12208,\"active\":7663},{\"countrycode\":\"DZ\",\"country\":\"Algeria\",\"latitude\":\"28.0339\",\"longitude\":\"1.6596\",\"confirmed\":10382,\"deaths\":724,\"recovered\":6951,\"active\":2707},{\"countrycode\":\"EC\",\"country\":\"Ecuador\",\"latitude\":\"-1.8312\",\"longitude\":\"-78.1834\",\"confirmed\":43917,\"deaths\":3690,\"recovered\":21020,\"active\":19207},{\"countrycode\":\"EE\",\"country\":\"Estonia\",\"latitude\":\"58.5953\",\"longitude\":\"25.0136\",\"confirmed\":1947,\"deaths\":69,\"recovered\":1684,\"active\":194},{\"countrycode\":\"EG\",\"country\":\"Egypt\",\"latitude\":\"26.820553\",\"longitude\":\"30.802498\",\"confirmed\":36829,\"deaths\":1306,\"recovered\":9786,\"active\":25737},{\"countrycode\":\"EH\",\"country\":\"Western Sahara\",\"latitude\":\"24.2155\",\"longitude\":\"-12.8858\",\"confirmed\":9,\"deaths\":1,\"recovered\":6,\"active\":2},{\"countrycode\":\"ER\",\"country\":\"Eritrea\",\"latitude\":\"15.1794\",\"longitude\":\"39.7823\",\"confirmed\":39,\"deaths\":0,\"recovered\":39,\"active\":0},{\"countrycode\":\"ES\",\"country\":\"Spain\",\"latitude\":\"40.463667\",\"longitude\":\"-3.74922\",\"confirmed\":241966,\"deaths\":27136,\"recovered\":150376,\"active\":64454},{\"countrycode\":\"ET\",\"country\":\"Ethiopia\",\"latitude\":\"9.145\",\"longitude\":\"40.4897\",\"confirmed\":2336,\"deaths\":32,\"recovered\":379,\"active\":1925},{\"countrycode\":\"FI\",\"country\":\"Finland\",\"latitude\":\"61.92411\",\"longitude\":\"25.748151\",\"confirmed\":7025,\"deaths\":324,\"recovered\":5800,\"active\":901},{\"countrycode\":\"FJ\",\"country\":\"Fiji\",\"latitude\":\"-17.7134\",\"longitude\":\"178.065\",\"confirmed\":18,\"deaths\":0,\"recovered\":18,\"active\":0},{\"countrycode\":\"FR\",\"country\":\"France\",\"latitude\":\"46.2276\",\"longitude\":\"2.2137\",\"confirmed\":187599,\"deaths\":29237,\"recovered\":68736,\"active\":89626},{\"countrycode\":\"GA\",\"country\":\"Gabon\",\"latitude\":\"-0.8037\",\"longitude\":\"11.6094\",\"confirmed\":3247,\"deaths\":21,\"recovered\":938,\"active\":2288},{\"countrycode\":\"GB\",\"country\":\"United Kingdom\",\"latitude\":\"55.3781\",\"longitude\":\"-3.436\",\"confirmed\":289140,\"deaths\":40883,\"recovered\":0,\"active\":248257},{\"countrycode\":\"GD\",\"country\":\"Grenada\",\"latitude\":\"12.1165\",\"longitude\":\"-61.679\",\"confirmed\":23,\"deaths\":0,\"recovered\":22,\"active\":1},{\"countrycode\":\"GE\",\"country\":\"Georgia\",\"latitude\":\"42.3154\",\"longitude\":\"43.3569\",\"confirmed\":818,\"deaths\":13,\"recovered\":686,\"active\":119},{\"countrycode\":\"GH\",\"country\":\"Ghana\",\"latitude\":\"7.9465\",\"longitude\":\"-1.0232\",\"confirmed\":10201,\"deaths\":48,\"recovered\":3755,\"active\":6398},{\"countrycode\":\"GM\",\"country\":\"Gambia\",\"latitude\":\"13.4432\",\"longitude\":\"-15.3101\",\"confirmed\":28,\"deaths\":1,\"recovered\":21,\"active\":6},{\"countrycode\":\"GN\",\"country\":\"Guinea\",\"latitude\":\"9.9456\",\"longitude\":\"-9.6966\",\"confirmed\":4258,\"deaths\":23,\"recovered\":2942,\"active\":1293},{\"countrycode\":\"GQ\",\"country\":\"Equatorial Guinea\",\"latitude\":\"1.6508\",\"longitude\":\"10.2679\",\"confirmed\":1306,\"deaths\":12,\"recovered\":200,\"active\":1094},{\"countrycode\":\"GR\",\"country\":\"Greece\",\"latitude\":\"39.0742\",\"longitude\":\"21.8243\",\"confirmed\":3058,\"deaths\":183,\"recovered\":1374,\"active\":1501},{\"countrycode\":\"GT\",\"country\":\"Guatemala\",\"latitude\":\"15.7835\",\"longitude\":\"-90.2308\",\"confirmed\":7866,\"deaths\":289,\"recovered\":1413,\"active\":6164},{\"countrycode\":\"GW\",\"country\":\"Guinea-Bissau\",\"latitude\":\"11.8037\",\"longitude\":\"-15.1804\",\"confirmed\":1389,\"deaths\":12,\"recovered\":153,\"active\":1224},{\"countrycode\":\"GY\",\"country\":\"Guyana\",\"latitude\":\"4.860416\",\"longitude\":\"-58.93018\",\"confirmed\":156,\"deaths\":12,\"recovered\":86,\"active\":58},{\"countrycode\":\"HN\",\"country\":\"Honduras\",\"latitude\":\"15.2\",\"longitude\":\"-86.2419\",\"confirmed\":6935,\"deaths\":271,\"recovered\":787,\"active\":5877},{\"countrycode\":\"HR\",\"country\":\"Croatia\",\"latitude\":\"45.1\",\"longitude\":\"15.2\",\"confirmed\":2247,\"deaths\":106,\"recovered\":2130,\"active\":11},{\"countrycode\":\"HT\",\"country\":\"Haiti\",\"latitude\":\"18.9712\",\"longitude\":\"-72.2852\",\"confirmed\":3662,\"deaths\":56,\"recovered\":24,\"active\":3582},{\"countrycode\":\"HU\",\"country\":\"Hungary\",\"latitude\":\"47.1625\",\"longitude\":\"19.5033\",\"confirmed\":4017,\"deaths\":550,\"recovered\":2324,\"active\":1143},{\"countrycode\":\"ID\",\"country\":\"Indonesia\",\"latitude\":\"-0.7893\",\"longitude\":\"113.9213\",\"confirmed\":33076,\"deaths\":1923,\"recovered\":11414,\"active\":19739},{\"countrycode\":\"IE\",\"country\":\"Ireland\",\"latitude\":\"53.1424\",\"longitude\":\"-7.6921\",\"confirmed\":25215,\"deaths\":1691,\"recovered\":22698,\"active\":826},{\"countrycode\":\"IL\",\"country\":\"Israel\",\"latitude\":\"31.046051\",\"longitude\":\"34.851612\",\"confirmed\":18180,\"deaths\":299,\"recovered\":15159,\"active\":2722},{\"countrycode\":\"IN\",\"country\":\"India\",\"latitude\":\"20.593684\",\"longitude\":\"78.96288\",\"confirmed\":276583,\"deaths\":7745,\"recovered\":135206,\"active\":132961},{\"countrycode\":\"IQ\",\"country\":\"Iraq\",\"latitude\":\"33.223191\",\"longitude\":\"43.679291\",\"confirmed\":14268,\"deaths\":392,\"recovered\":5831,\"active\":8045},{\"countrycode\":\"IR\",\"country\":\"Iran\",\"latitude\":\"32.427908\",\"longitude\":\"53.688046\",\"confirmed\":175927,\"deaths\":8425,\"recovered\":138457,\"active\":29045},{\"countrycode\":\"IS\",\"country\":\"Iceland\",\"latitude\":\"64.9631\",\"longitude\":\"-19.0208\",\"confirmed\":1807,\"deaths\":10,\"recovered\":1794,\"active\":3},{\"countrycode\":\"IT\",\"country\":\"Italy\",\"latitude\":\"41.87194\",\"longitude\":\"12.56738\",\"confirmed\":235561,\"deaths\":34043,\"recovered\":168646,\"active\":32872},{\"countrycode\":\"JM\",\"country\":\"Jamaica\",\"latitude\":\"18.1096\",\"longitude\":\"-77.2975\",\"confirmed\":605,\"deaths\":10,\"recovered\":405,\"active\":190},{\"countrycode\":\"JO\",\"country\":\"Jordan\",\"latitude\":\"31.24\",\"longitude\":\"36.51\",\"confirmed\":845,\"deaths\":9,\"recovered\":657,\"active\":179},{\"countrycode\":\"JP\",\"country\":\"Japan\",\"latitude\":\"36.204824\",\"longitude\":\"138.252924\",\"confirmed\":17111,\"deaths\":920,\"recovered\":15141,\"active\":1050},{\"countrycode\":\"KE\",\"country\":\"Kenya\",\"latitude\":\"-0.0236\",\"longitude\":\"37.9062\",\"confirmed\":2989,\"deaths\":88,\"recovered\":873,\"active\":2028},{\"countrycode\":\"KG\",\"country\":\"Kyrgyzstan\",\"latitude\":\"41.20438\",\"longitude\":\"74.766098\",\"confirmed\":2055,\"deaths\":24,\"recovered\":1483,\"active\":548},{\"countrycode\":\"KH\",\"country\":\"Cambodia\",\"latitude\":\"11.55\",\"longitude\":\"104.9167\",\"confirmed\":126,\"deaths\":0,\"recovered\":125,\"active\":1},{\"countrycode\":\"KM\",\"country\":\"Comoros\",\"latitude\":\"-11.6455\",\"longitude\":\"43.3333\",\"confirmed\":141,\"deaths\":2,\"recovered\":67,\"active\":72},{\"countrycode\":\"KN\",\"country\":\"Saint Kitts and Nevis\",\"latitude\":\"17.357822\",\"longitude\":\"-62.782998\",\"confirmed\":15,\"deaths\":0,\"recovered\":15,\"active\":0},{\"countrycode\":\"KR\",\"country\":\"South Korea\",\"latitude\":\"35.907757\",\"longitude\":\"127.766922\",\"confirmed\":11902,\"deaths\":276,\"recovered\":10611,\"active\":1015},{\"countrycode\":\"KW\",\"country\":\"Kuwait\",\"latitude\":\"29.31166\",\"longitude\":\"47.481766\",\"confirmed\":33140,\"deaths\":273,\"recovered\":22162,\"active\":10705},{\"countrycode\":\"KZ\",\"country\":\"Kazakhstan\",\"latitude\":\"48.0196\",\"longitude\":\"66.9237\",\"confirmed\":13074,\"deaths\":61,\"recovered\":8015,\"active\":4998},{\"countrycode\":\"LA\",\"country\":\"Laos\",\"latitude\":\"19.85627\",\"longitude\":\"102.495496\",\"confirmed\":19,\"deaths\":0,\"recovered\":19,\"active\":0},{\"countrycode\":\"LB\",\"country\":\"Lebanon\",\"latitude\":\"33.8547\",\"longitude\":\"35.8623\",\"confirmed\":1368,\"deaths\":30,\"recovered\":795,\"active\":543},{\"countrycode\":\"LC\",\"country\":\"Saint Lucia\",\"latitude\":\"13.9094\",\"longitude\":\"-60.9789\",\"confirmed\":19,\"deaths\":0,\"recovered\":18,\"active\":1},{\"countrycode\":\"LI\",\"country\":\"Liechtenstein\",\"latitude\":\"47.14\",\"longitude\":\"9.55\",\"confirmed\":82,\"deaths\":1,\"recovered\":55,\"active\":26},{\"countrycode\":\"LK\",\"country\":\"Sri Lanka\",\"latitude\":\"7.873054\",\"longitude\":\"80.771797\",\"confirmed\":1859,\"deaths\":11,\"recovered\":1057,\"active\":791},{\"countrycode\":\"LR\",\"country\":\"Liberia\",\"latitude\":\"6.428055\",\"longitude\":\"-9.429499\",\"confirmed\":383,\"deaths\":31,\"recovered\":199,\"active\":153},{\"countrycode\":\"LS\",\"country\":\"Lesotho\",\"latitude\":\"-29.609988\",\"longitude\":\"28.233608\",\"confirmed\":4,\"deaths\":0,\"recovered\":2,\"active\":2},{\"countrycode\":\"LT\",\"country\":\"Lithuania\",\"latitude\":\"55.1694\",\"longitude\":\"23.8813\",\"confirmed\":1727,\"deaths\":72,\"recovered\":1338,\"active\":317},{\"countrycode\":\"LU\",\"country\":\"Luxembourg\",\"latitude\":\"49.8153\",\"longitude\":\"6.1296\",\"confirmed\":4046,\"deaths\":110,\"recovered\":3902,\"active\":34},{\"countrycode\":\"LV\",\"country\":\"Latvia\",\"latitude\":\"56.8796\",\"longitude\":\"24.6032\",\"confirmed\":1089,\"deaths\":26,\"recovered\":794,\"active\":269},{\"countrycode\":\"LY\",\"country\":\"Libya\",\"latitude\":\"26.3351\",\"longitude\":\"17.228331\",\"confirmed\":359,\"deaths\":5,\"recovered\":58,\"active\":296},{\"countrycode\":\"MA\",\"country\":\"Morocco\",\"latitude\":\"31.7917\",\"longitude\":\"-7.0926\",\"confirmed\":8437,\"deaths\":210,\"recovered\":7493,\"active\":734},{\"countrycode\":\"MC\",\"country\":\"Monaco\",\"latitude\":\"43.7333\",\"longitude\":\"7.4167\",\"confirmed\":99,\"deaths\":4,\"recovered\":93,\"active\":2},{\"countrycode\":\"MD\",\"country\":\"Moldova\",\"latitude\":\"47.4116\",\"longitude\":\"28.3699\",\"confirmed\":10025,\"deaths\":365,\"recovered\":5797,\"active\":3863},{\"countrycode\":\"ME\",\"country\":\"Montenegro\",\"latitude\":\"42.708678\",\"longitude\":\"19.37439\",\"confirmed\":324,\"deaths\":9,\"recovered\":315,\"active\":0},{\"countrycode\":\"MG\",\"country\":\"Madagascar\",\"latitude\":\"-18.766947\",\"longitude\":\"46.869107\",\"confirmed\":1138,\"deaths\":9,\"recovered\":274,\"active\":855},{\"countrycode\":\"MK\",\"country\":\"North Macedonia\",\"latitude\":\"41.6086\",\"longitude\":\"21.7453\",\"confirmed\":3239,\"deaths\":157,\"recovered\":1658,\"active\":1424},{\"countrycode\":\"ML\",\"country\":\"Mali\",\"latitude\":\"17.570692\",\"longitude\":\"-3.996166\",\"confirmed\":1586,\"deaths\":94,\"recovered\":931,\"active\":561},{\"countrycode\":\"MN\",\"country\":\"Mongolia\",\"latitude\":\"46.8625\",\"longitude\":\"103.8467\",\"confirmed\":194,\"deaths\":0,\"recovered\":87,\"active\":107},{\"countrycode\":\"MR\",\"country\":\"Mauritania\",\"latitude\":\"21.0079\",\"longitude\":\"-10.9408\",\"confirmed\":1162,\"deaths\":61,\"recovered\":139,\"active\":962},{\"countrycode\":\"MT\",\"country\":\"Malta\",\"latitude\":\"35.9375\",\"longitude\":\"14.3754\",\"confirmed\":632,\"deaths\":9,\"recovered\":597,\"active\":26},{\"countrycode\":\"MU\",\"country\":\"Mauritius\",\"latitude\":\"-20.348404\",\"longitude\":\"57.552152\",\"confirmed\":337,\"deaths\":10,\"recovered\":324,\"active\":3},{\"countrycode\":\"MV\",\"country\":\"Maldives\",\"latitude\":\"3.2028\",\"longitude\":\"73.2207\",\"confirmed\":1942,\"deaths\":8,\"recovered\":1010,\"active\":924},{\"countrycode\":\"MW\",\"country\":\"Malawi\",\"latitude\":\"-13.254308\",\"longitude\":\"34.301525\",\"confirmed\":455,\"deaths\":4,\"recovered\":55,\"active\":396},{\"countrycode\":\"MX\",\"country\":\"Mexico\",\"latitude\":\"23.634501\",\"longitude\":\"-102.552784\",\"confirmed\":124301,\"deaths\":14649,\"recovered\":90748,\"active\":18904},{\"countrycode\":\"MY\",\"country\":\"Malaysia\",\"latitude\":\"4.210484\",\"longitude\":\"101.975766\",\"confirmed\":8336,\"deaths\":117,\"recovered\":6975,\"active\":1244},{\"countrycode\":\"MZ\",\"country\":\"Mozambique\",\"latitude\":\"-18.665695\",\"longitude\":\"35.529562\",\"confirmed\":453,\"deaths\":2,\"recovered\":136,\"active\":315},{\"countrycode\":\"NA\",\"country\":\"Namibia\",\"latitude\":\"-22.9576\",\"longitude\":\"18.4904\",\"confirmed\":31,\"deaths\":0,\"recovered\":16,\"active\":15},{\"countrycode\":\"NE\",\"country\":\"Niger\",\"latitude\":\"17.607789\",\"longitude\":\"8.081666\",\"confirmed\":974,\"deaths\":65,\"recovered\":871,\"active\":38},{\"countrycode\":\"NG\",\"country\":\"Nigeria\",\"latitude\":\"9.082\",\"longitude\":\"8.6753\",\"confirmed\":13464,\"deaths\":365,\"recovered\":4206,\"active\":8893},{\"countrycode\":\"NI\",\"country\":\"Nicaragua\",\"latitude\":\"12.865416\",\"longitude\":\"-85.207229\",\"confirmed\":1464,\"deaths\":55,\"recovered\":953,\"active\":456},{\"countrycode\":\"NL\",\"country\":\"Netherlands\",\"latitude\":\"52.1326\",\"longitude\":\"5.2913\",\"confirmed\":47903,\"deaths\":6031,\"recovered\":0,\"active\":41872},{\"countrycode\":\"NO\",\"country\":\"Norway\",\"latitude\":\"60.472\",\"longitude\":\"8.4689\",\"confirmed\":8576,\"deaths\":239,\"recovered\":8138,\"active\":199},{\"countrycode\":\"NP\",\"country\":\"Nepal\",\"latitude\":\"28.1667\",\"longitude\":\"84.25\",\"confirmed\":4086,\"deaths\":15,\"recovered\":584,\"active\":3487},{\"countrycode\":\"NZ\",\"country\":\"New Zealand\",\"latitude\":\"-40.9006\",\"longitude\":\"174.886\",\"confirmed\":1504,\"deaths\":22,\"recovered\":1482,\"active\":0},{\"countrycode\":\"OM\",\"country\":\"Oman\",\"latitude\":\"21.512583\",\"longitude\":\"55.923255\",\"confirmed\":18198,\"deaths\":83,\"recovered\":4152,\"active\":13963},{\"countrycode\":\"PA\",\"country\":\"Panama\",\"latitude\":\"8.538\",\"longitude\":\"-80.7821\",\"confirmed\":17233,\"deaths\":403,\"recovered\":10561,\"active\":6269},{\"countrycode\":\"PE\",\"country\":\"Peru\",\"latitude\":\"-9.189967\",\"longitude\":\"-75.015152\",\"confirmed\":203736,\"deaths\":5738,\"recovered\":0,\"active\":105069},{\"countrycode\":\"PG\",\"country\":\"Papua New Guinea\",\"latitude\":\"-6.314993\",\"longitude\":\"143.95555\",\"confirmed\":8,\"deaths\":0,\"recovered\":8,\"active\":0},{\"countrycode\":\"PH\",\"country\":\"Philippines\",\"latitude\":\"12.879721\",\"longitude\":\"121.774017\",\"confirmed\":22992,\"deaths\":1017,\"recovered\":4736,\"active\":17239},{\"countrycode\":\"PK\",\"country\":\"Pakistan\",\"latitude\":\"30.3753\",\"longitude\":\"69.3451\",\"confirmed\":113702,\"deaths\":2255,\"recovered\":36308,\"active\":75139},{\"countrycode\":\"PL\",\"country\":\"Poland\",\"latitude\":\"51.9194\",\"longitude\":\"19.1451\",\"confirmed\":27560,\"deaths\":1183,\"recovered\":13196,\"active\":13181},{\"countrycode\":\"PT\",\"country\":\"Portugal\",\"latitude\":\"39.3999\",\"longitude\":\"-8.2245\",\"confirmed\":35306,\"deaths\":1492,\"recovered\":21339,\"active\":12475},{\"countrycode\":\"PY\",\"country\":\"Paraguay\",\"latitude\":\"-23.4425\",\"longitude\":\"-58.4438\",\"confirmed\":1187,\"deaths\":11,\"recovered\":604,\"active\":572},{\"countrycode\":\"QA\",\"country\":\"Qatar\",\"latitude\":\"25.3548\",\"longitude\":\"51.1839\",\"confirmed\":71879,\"deaths\":62,\"recovered\":47569,\"active\":24248},{\"countrycode\":\"RO\",\"country\":\"Romania\",\"latitude\":\"45.9432\",\"longitude\":\"24.9668\",\"confirmed\":20749,\"deaths\":1354,\"recovered\":14910,\"active\":4485},{\"countrycode\":\"RS\",\"country\":\"Serbia\",\"latitude\":\"44.0165\",\"longitude\":\"21.0059\",\"confirmed\":11965,\"deaths\":250,\"recovered\":11268,\"active\":447},{\"countrycode\":\"RU\",\"country\":\"Russia\",\"latitude\":\"61.52401\",\"longitude\":\"105.318756\",\"confirmed\":484630,\"deaths\":6134,\"recovered\":241917,\"active\":236579},{\"countrycode\":\"RW\",\"country\":\"Rwanda\",\"latitude\":\"-1.9403\",\"longitude\":\"29.8739\",\"confirmed\":463,\"deaths\":2,\"recovered\":300,\"active\":161},{\"countrycode\":\"SA\",\"country\":\"Saudi Arabia\",\"latitude\":\"23.885942\",\"longitude\":\"45.079162\",\"confirmed\":108571,\"deaths\":783,\"recovered\":76339,\"active\":31449},{\"countrycode\":\"SC\",\"country\":\"Seychelles\",\"latitude\":\"-4.6796\",\"longitude\":\"55.492\",\"confirmed\":11,\"deaths\":0,\"recovered\":11,\"active\":0},{\"countrycode\":\"SD\",\"country\":\"Sudan\",\"latitude\":\"12.8628\",\"longitude\":\"30.2176\",\"confirmed\":6427,\"deaths\":389,\"recovered\":2127,\"active\":3911},{\"countrycode\":\"SE\",\"country\":\"Sweden\",\"latitude\":\"60.128161\",\"longitude\":\"18.643501\",\"confirmed\":45924,\"deaths\":4717,\"recovered\":0,\"active\":41207},{\"countrycode\":\"SG\",\"country\":\"Singapore\",\"latitude\":\"1.2833\",\"longitude\":\"103.8333\",\"confirmed\":38514,\"deaths\":25,\"recovered\":25877,\"active\":12612},{\"countrycode\":\"SI\",\"country\":\"Slovenia\",\"latitude\":\"46.1512\",\"longitude\":\"14.9955\",\"confirmed\":1486,\"deaths\":109,\"recovered\":1359,\"active\":18},{\"countrycode\":\"SK\",\"country\":\"Slovakia\",\"latitude\":\"48.669\",\"longitude\":\"19.699\",\"confirmed\":1531,\"deaths\":28,\"recovered\":1402,\"active\":101},{\"countrycode\":\"SL\",\"country\":\"Sierra Leone\",\"latitude\":\"8.460555\",\"longitude\":\"-11.779889\",\"confirmed\":1025,\"deaths\":50,\"recovered\":621,\"active\":354},{\"countrycode\":\"SM\",\"country\":\"San Marino\",\"latitude\":\"43.9424\",\"longitude\":\"12.4578\",\"confirmed\":688,\"deaths\":42,\"recovered\":483,\"active\":163},{\"countrycode\":\"SN\",\"country\":\"Senegal\",\"latitude\":\"14.4974\",\"longitude\":\"-14.4524\",\"confirmed\":4516,\"deaths\":52,\"recovered\":2809,\"active\":1655},{\"countrycode\":\"SO\",\"country\":\"Somalia\",\"latitude\":\"5.152149\",\"longitude\":\"46.199616\",\"confirmed\":2416,\"deaths\":85,\"recovered\":489,\"active\":1842},{\"countrycode\":\"SR\",\"country\":\"Suriname\",\"latitude\":\"3.9193\",\"longitude\":\"-56.0278\",\"confirmed\":137,\"deaths\":2,\"recovered\":9,\"active\":126},{\"countrycode\":\"SS\",\"country\":\"South Sudan\",\"latitude\":\"6.877\",\"longitude\":\"31.307\",\"confirmed\":1604,\"deaths\":19,\"recovered\":15,\"active\":1570},{\"countrycode\":\"ST\",\"country\":\"Sao Tome and Principe\",\"latitude\":\"0.18636\",\"longitude\":\"6.613081\",\"confirmed\":514,\"deaths\":12,\"recovered\":76,\"active\":426},{\"countrycode\":\"SV\",\"country\":\"El Salvador\",\"latitude\":\"13.7942\",\"longitude\":\"-88.8965\",\"confirmed\":3191,\"deaths\":60,\"recovered\":1419,\"active\":1712},{\"countrycode\":\"SY\",\"country\":\"Syria\",\"latitude\":\"34.802075\",\"longitude\":\"38.996815\",\"confirmed\":146,\"deaths\":6,\"recovered\":62,\"active\":78},{\"countrycode\":\"SZ\",\"country\":\"Eswatini\",\"latitude\":\"-26.5225\",\"longitude\":\"31.4659\",\"confirmed\":371,\"deaths\":3,\"recovered\":232,\"active\":136},{\"countrycode\":\"TD\",\"country\":\"Chad\",\"latitude\":\"15.4542\",\"longitude\":\"18.7322\",\"confirmed\":844,\"deaths\":71,\"recovered\":706,\"active\":67},{\"countrycode\":\"TG\",\"country\":\"Togo\",\"latitude\":\"8.6195\",\"longitude\":\"0.8248\",\"confirmed\":501,\"deaths\":13,\"recovered\":260,\"active\":228},{\"countrycode\":\"TH\",\"country\":\"Thailand\",\"latitude\":\"15.870032\",\"longitude\":\"100.992541\",\"confirmed\":3121,\"deaths\":58,\"recovered\":2973,\"active\":90},{\"countrycode\":\"TJ\",\"country\":\"Tajikistan\",\"latitude\":\"38.861034\",\"longitude\":\"71.276093\",\"confirmed\":4690,\"deaths\":48,\"recovered\":2815,\"active\":1827},{\"countrycode\":\"TL\",\"country\":\"Timor-Leste\",\"latitude\":\"-8.874217\",\"longitude\":\"125.727539\",\"confirmed\":24,\"deaths\":0,\"recovered\":24,\"active\":0},{\"countrycode\":\"TN\",\"country\":\"Tunisia\",\"latitude\":\"33.886917\",\"longitude\":\"9.537499\",\"confirmed\":1087,\"deaths\":49,\"recovered\":982,\"active\":56},{\"countrycode\":\"TR\",\"country\":\"Turkey\",\"latitude\":\"38.9637\",\"longitude\":\"35.2433\",\"confirmed\":172114,\"deaths\":4729,\"recovered\":144598,\"active\":22787},{\"countrycode\":\"TT\",\"country\":\"Trinidad and Tobago\",\"latitude\":\"10.6918\",\"longitude\":\"-61.2225\",\"confirmed\":117,\"deaths\":8,\"recovered\":109,\"active\":0},{\"countrycode\":\"TW\",\"country\":\"Taiwan\",\"latitude\":\"23.7\",\"longitude\":\"121\",\"confirmed\":443,\"deaths\":7,\"recovered\":431,\"active\":5},{\"countrycode\":\"TZ\",\"country\":\"Tanzania\",\"latitude\":\"-6.369028\",\"longitude\":\"34.888822\",\"confirmed\":509,\"deaths\":21,\"recovered\":183,\"active\":305},{\"countrycode\":\"UA\",\"country\":\"Ukraine\",\"latitude\":\"48.379433\",\"longitude\":\"31.16558\",\"confirmed\":28479,\"deaths\":818,\"recovered\":12892,\"active\":14769},{\"countrycode\":\"UG\",\"country\":\"Uganda\",\"latitude\":\"1.373333\",\"longitude\":\"32.290275\",\"confirmed\":657,\"deaths\":0,\"recovered\":118,\"active\":539},{\"countrycode\":\"US\",\"country\":\"United States of America\",\"latitude\":\"37.09024\",\"longitude\":\"-95.712891\",\"confirmed\":1979411,\"deaths\":111989,\"recovered\":524855,\"active\":\"\"},{\"countrycode\":\"UY\",\"country\":\"Uruguay\",\"latitude\":\"-32.5228\",\"longitude\":\"-55.7658\",\"confirmed\":846,\"deaths\":23,\"recovered\":754,\"active\":69},{\"countrycode\":\"UZ\",\"country\":\"Uzbekistan\",\"latitude\":\"41.377491\",\"longitude\":\"64.585262\",\"confirmed\":4520,\"deaths\":18,\"recovered\":3459,\"active\":1043},{\"countrycode\":\"VC\",\"country\":\"Saint Vincent and the Grenadines\",\"latitude\":\"12.9843\",\"longitude\":\"-61.2872\",\"confirmed\":27,\"deaths\":0,\"recovered\":25,\"active\":2},{\"countrycode\":\"VE\",\"country\":\"Venezuela\",\"latitude\":\"6.4238\",\"longitude\":\"-66.5897\",\"confirmed\":2632,\"deaths\":23,\"recovered\":487,\"active\":2122},{\"countrycode\":\"VN\",\"country\":\"Vietnam\",\"latitude\":\"14.058324\",\"longitude\":\"108.277199\",\"confirmed\":332,\"deaths\":0,\"recovered\":316,\"active\":16},{\"countrycode\":\"YE\",\"country\":\"Yemen\",\"latitude\":\"15.552727\",\"longitude\":\"48.516388\",\"confirmed\":524,\"deaths\":127,\"recovered\":23,\"active\":374},{\"countrycode\":\"ZA\",\"country\":\"South Africa\",\"latitude\":\"-30.5595\",\"longitude\":\"22.9375\",\"confirmed\":52991,\"deaths\":1162,\"recovered\":29006,\"active\":22823},{\"countrycode\":\"ZM\",\"country\":\"Zambia\",\"latitude\":\"-13.133897\",\"longitude\":\"27.849332\",\"confirmed\":1200,\"deaths\":10,\"recovered\":912,\"active\":278},{\"countrycode\":\"ZW\",\"country\":\"Zimbabwe\",\"latitude\":\"-19.015438\",\"longitude\":\"29.154857\",\"confirmed\":314,\"deaths\":4,\"recovered\":46,\"active\":264}]\n"
     ]
    }
   ],
   "source": [
    "import requests\n",
    "import json\n",
    "import csv\n",
    "import os\n",
    "\n",
    "XRAPIDAPIKEY = os.environ.get('XRAPIDAPIKEY')\n",
    "CODE_HOME = os.getcwd()\n",
    "\n",
    "url = \"https://covid19-data.p.rapidapi.com/all\"\n",
    "\n",
    "headers = {\n",
    "    \"X-RapidAPI-Host\": \"covid19-data.p.rapidapi.com\",\n",
    "    \"X-RapidAPI-Key\": XRAPIDAPIKEY\n",
    "}\n",
    "\n",
    "response = requests.request(\"GET\", url, headers=headers)\n",
    "jsondata = json.loads(response.text)\n",
    "print(response.text)\n",
    "with open(CODE_HOME + '/latest-covid-data.csv', \"w\") as output_file:\n",
    "    dict_writer = csv.DictWriter(output_file, jsondata[0].keys())\n",
    "    dict_writer.writeheader()\n",
    "    dict_writer.writerows(jsondata)"
   ]
  },
  {
   "cell_type": "markdown",
   "id": "15df4dd8",
   "metadata": {},
   "source": [
    "# Sprak Dataframe\n",
    "* Create Spark Dataframe from json data fetched above\n",
    "* Drop unwanted columns"
   ]
  },
  {
   "cell_type": "code",
   "execution_count": 38,
   "id": "fc32f94d",
   "metadata": {},
   "outputs": [
    {
     "name": "stdout",
     "output_type": "stream",
     "text": [
      "root\n",
      " |-- country: string (nullable = true)\n",
      " |-- confirmed: long (nullable = true)\n",
      " |-- deaths: long (nullable = true)\n",
      " |-- recovered: long (nullable = true)\n",
      " |-- active: string (nullable = true)\n",
      "\n"
     ]
    }
   ],
   "source": [
    "from pyspark.sql import SparkSession\n",
    "from pyspark.sql.types import StructType, StructField, StringType, LongType\n",
    "\n",
    "spark = SparkSession.builder.appName(\"PySparkAssignment.com\").getOrCreate()\n",
    "\n",
    "\n",
    "schema = StructType([\n",
    "    StructField(\"countrycode\",StringType(),True), \\\n",
    "    StructField(\"country\",StringType(),True), \\\n",
    "    StructField(\"latitude\",StringType(),True), \\\n",
    "    StructField(\"longitude\", StringType(), True), \\\n",
    "    StructField(\"confirmed\", LongType(), True), \\\n",
    "    StructField(\"deaths\", LongType(), True), \\\n",
    "    StructField(\"recovered\", LongType(), True), \\\n",
    "    # US contains active cases as empty string which is not allowing LongType\n",
    "    StructField(\"active\", StringType(), True) \\\n",
    "  ])\n",
    "\n",
    "df = spark.createDataFrame(jsondata, schema=schema)\n",
    "df = df.drop(\"countrycode\", \"latitude\", \"longitude\")\n",
    "\n",
    "df.printSchema()\n",
    "\n",
    "total_countries = df.count()"
   ]
  },
  {
   "cell_type": "markdown",
   "id": "67f30f49",
   "metadata": {},
   "source": [
    "## To change column type of \"active\" change empty string to 0"
   ]
  },
  {
   "cell_type": "code",
   "execution_count": 39,
   "id": "309c5cc0",
   "metadata": {},
   "outputs": [
    {
     "name": "stdout",
     "output_type": "stream",
     "text": [
      "root\n",
      " |-- country: string (nullable = true)\n",
      " |-- confirmed: long (nullable = true)\n",
      " |-- deaths: long (nullable = true)\n",
      " |-- recovered: long (nullable = true)\n",
      " |-- active: long (nullable = true)\n",
      "\n",
      "+--------------------+---------+------+---------+------+\n",
      "|             country|confirmed|deaths|recovered|active|\n",
      "+--------------------+---------+------+---------+------+\n",
      "|             Andorra|      852|    51|      757|    44|\n",
      "|United Arab Emirates|    39904|   283|    22740| 16881|\n",
      "|         Afghanistan|    21459|   384|     2651| 18424|\n",
      "| Antigua and Barbuda|       26|     3|       20|     3|\n",
      "|             Albania|     1299|    34|      960|   305|\n",
      "|             Armenia|    13675|   217|     4451|  9007|\n",
      "|              Angola|       96|     4|       38|    54|\n",
      "|           Argentina|    24761|   717|     7568| 16476|\n",
      "|             Austria|    16979|   672|    15875|   432|\n",
      "|           Australia|     7274|   102|     6740|   432|\n",
      "|          Azerbaijan|     8191|    98|     4606|  3487|\n",
      "|Bosnia and Herzeg...|     2728|   160|     2049|   519|\n",
      "|            Barbados|       92|     7|       81|     4|\n",
      "|          Bangladesh|    71675|   975|    15337| 55363|\n",
      "|             Belgium|    59437|  9619|    16324| 33494|\n",
      "|        Burkina Faso|      891|    53|      765|    73|\n",
      "|            Bulgaria|     2889|   167|     1623|  1099|\n",
      "|             Bahrain|    15731|    29|    10606|  5096|\n",
      "|             Burundi|       83|     1|       45|    37|\n",
      "|               Benin|      305|     4|      188|   113|\n",
      "|             Bolivia|    14644|   487|     2190| 11967|\n",
      "|              Brazil|   739503| 38406|   396737|304360|\n",
      "|             Bahamas|      103|    11|       64|    28|\n",
      "|              Bhutan|       59|     0|       17|    42|\n",
      "|            Botswana|       42|     1|       24|    17|\n",
      "|             Belarus|    50265|   282|    24506| 25477|\n",
      "|              Belize|       20|     2|       16|     2|\n",
      "|              Canada|    98241|  7970|    56117| 34154|\n",
      "|            DR Congo|     4259|    90|      539|  3630|\n",
      "|Central African R...|     1850|     5|       38|  1807|\n",
      "|Republic of the C...|      728|    24|      221|   483|\n",
      "|         Switzerland|    30988|  1934|    28700|   354|\n",
      "|               Chile|   142759|  2283|        0| 23115|\n",
      "|            Cameroon|     8312|   212|     4794|  3306|\n",
      "|               China|    84198|  4638|    79451|   109|\n",
      "|            Colombia|    40847|  1373|    16459| 23015|\n",
      "|          Costa Rica|     1375|    11|      717|   647|\n",
      "|                Cuba|     2205|    83|     1880|   242|\n",
      "|          Cabo Verde|      585|     5|      270|   310|\n",
      "|              Cyprus|      972|    18|      807|   147|\n",
      "|             Czechia|     9751|   328|     7053|  2370|\n",
      "|             Germany|   186506|  8736|   170129|  7641|\n",
      "|            Djibouti|     4331|    34|     2139|  2158|\n",
      "|             Denmark|    12001|   593|    10849|   559|\n",
      "|            Dominica|       18|     0|       16|     2|\n",
      "|  Dominican Republic|    20415|   544|    12208|  7663|\n",
      "|             Algeria|    10382|   724|     6951|  2707|\n",
      "|             Ecuador|    43917|  3690|    21020| 19207|\n",
      "|             Estonia|     1947|    69|     1684|   194|\n",
      "|               Egypt|    36829|  1306|     9786| 25737|\n",
      "|      Western Sahara|        9|     1|        6|     2|\n",
      "|             Eritrea|       39|     0|       39|     0|\n",
      "|               Spain|   241966| 27136|   150376| 64454|\n",
      "|            Ethiopia|     2336|    32|      379|  1925|\n",
      "|             Finland|     7025|   324|     5800|   901|\n",
      "|                Fiji|       18|     0|       18|     0|\n",
      "|              France|   187599| 29237|    68736| 89626|\n",
      "|               Gabon|     3247|    21|      938|  2288|\n",
      "|      United Kingdom|   289140| 40883|        0|248257|\n",
      "|             Grenada|       23|     0|       22|     1|\n",
      "|             Georgia|      818|    13|      686|   119|\n",
      "|               Ghana|    10201|    48|     3755|  6398|\n",
      "|              Gambia|       28|     1|       21|     6|\n",
      "|              Guinea|     4258|    23|     2942|  1293|\n",
      "|   Equatorial Guinea|     1306|    12|      200|  1094|\n",
      "|              Greece|     3058|   183|     1374|  1501|\n",
      "|           Guatemala|     7866|   289|     1413|  6164|\n",
      "|       Guinea-Bissau|     1389|    12|      153|  1224|\n",
      "|              Guyana|      156|    12|       86|    58|\n",
      "|            Honduras|     6935|   271|      787|  5877|\n",
      "|             Croatia|     2247|   106|     2130|    11|\n",
      "|               Haiti|     3662|    56|       24|  3582|\n",
      "|             Hungary|     4017|   550|     2324|  1143|\n",
      "|           Indonesia|    33076|  1923|    11414| 19739|\n",
      "|             Ireland|    25215|  1691|    22698|   826|\n",
      "|              Israel|    18180|   299|    15159|  2722|\n",
      "|               India|   276583|  7745|   135206|132961|\n",
      "|                Iraq|    14268|   392|     5831|  8045|\n",
      "|                Iran|   175927|  8425|   138457| 29045|\n",
      "|             Iceland|     1807|    10|     1794|     3|\n",
      "|               Italy|   235561| 34043|   168646| 32872|\n",
      "|             Jamaica|      605|    10|      405|   190|\n",
      "|              Jordan|      845|     9|      657|   179|\n",
      "|               Japan|    17111|   920|    15141|  1050|\n",
      "|               Kenya|     2989|    88|      873|  2028|\n",
      "|          Kyrgyzstan|     2055|    24|     1483|   548|\n",
      "|            Cambodia|      126|     0|      125|     1|\n",
      "|             Comoros|      141|     2|       67|    72|\n",
      "|Saint Kitts and N...|       15|     0|       15|     0|\n",
      "|         South Korea|    11902|   276|    10611|  1015|\n",
      "|              Kuwait|    33140|   273|    22162| 10705|\n",
      "|          Kazakhstan|    13074|    61|     8015|  4998|\n",
      "|                Laos|       19|     0|       19|     0|\n",
      "|             Lebanon|     1368|    30|      795|   543|\n",
      "|         Saint Lucia|       19|     0|       18|     1|\n",
      "|       Liechtenstein|       82|     1|       55|    26|\n",
      "|           Sri Lanka|     1859|    11|     1057|   791|\n",
      "|             Liberia|      383|    31|      199|   153|\n",
      "|             Lesotho|        4|     0|        2|     2|\n",
      "|           Lithuania|     1727|    72|     1338|   317|\n",
      "|          Luxembourg|     4046|   110|     3902|    34|\n",
      "|              Latvia|     1089|    26|      794|   269|\n",
      "|               Libya|      359|     5|       58|   296|\n",
      "|             Morocco|     8437|   210|     7493|   734|\n",
      "|              Monaco|       99|     4|       93|     2|\n",
      "|             Moldova|    10025|   365|     5797|  3863|\n",
      "|          Montenegro|      324|     9|      315|     0|\n",
      "|          Madagascar|     1138|     9|      274|   855|\n",
      "|     North Macedonia|     3239|   157|     1658|  1424|\n",
      "|                Mali|     1586|    94|      931|   561|\n",
      "|            Mongolia|      194|     0|       87|   107|\n",
      "|          Mauritania|     1162|    61|      139|   962|\n",
      "|               Malta|      632|     9|      597|    26|\n",
      "|           Mauritius|      337|    10|      324|     3|\n",
      "|            Maldives|     1942|     8|     1010|   924|\n",
      "|              Malawi|      455|     4|       55|   396|\n",
      "|              Mexico|   124301| 14649|    90748| 18904|\n",
      "|            Malaysia|     8336|   117|     6975|  1244|\n",
      "|          Mozambique|      453|     2|      136|   315|\n",
      "|             Namibia|       31|     0|       16|    15|\n",
      "|               Niger|      974|    65|      871|    38|\n",
      "|             Nigeria|    13464|   365|     4206|  8893|\n",
      "|           Nicaragua|     1464|    55|      953|   456|\n",
      "|         Netherlands|    47903|  6031|        0| 41872|\n",
      "|              Norway|     8576|   239|     8138|   199|\n",
      "|               Nepal|     4086|    15|      584|  3487|\n",
      "|         New Zealand|     1504|    22|     1482|     0|\n",
      "|                Oman|    18198|    83|     4152| 13963|\n",
      "|              Panama|    17233|   403|    10561|  6269|\n",
      "|                Peru|   203736|  5738|        0|105069|\n",
      "|    Papua New Guinea|        8|     0|        8|     0|\n",
      "|         Philippines|    22992|  1017|     4736| 17239|\n",
      "|            Pakistan|   113702|  2255|    36308| 75139|\n",
      "|              Poland|    27560|  1183|    13196| 13181|\n",
      "|            Portugal|    35306|  1492|    21339| 12475|\n",
      "|            Paraguay|     1187|    11|      604|   572|\n",
      "|               Qatar|    71879|    62|    47569| 24248|\n",
      "|             Romania|    20749|  1354|    14910|  4485|\n",
      "|              Serbia|    11965|   250|    11268|   447|\n",
      "|              Russia|   484630|  6134|   241917|236579|\n",
      "|              Rwanda|      463|     2|      300|   161|\n",
      "|        Saudi Arabia|   108571|   783|    76339| 31449|\n",
      "|          Seychelles|       11|     0|       11|     0|\n",
      "|               Sudan|     6427|   389|     2127|  3911|\n",
      "|              Sweden|    45924|  4717|        0| 41207|\n",
      "|           Singapore|    38514|    25|    25877| 12612|\n",
      "|            Slovenia|     1486|   109|     1359|    18|\n",
      "|            Slovakia|     1531|    28|     1402|   101|\n",
      "|        Sierra Leone|     1025|    50|      621|   354|\n",
      "|          San Marino|      688|    42|      483|   163|\n",
      "|             Senegal|     4516|    52|     2809|  1655|\n",
      "|             Somalia|     2416|    85|      489|  1842|\n",
      "|            Suriname|      137|     2|        9|   126|\n",
      "|         South Sudan|     1604|    19|       15|  1570|\n",
      "|Sao Tome and Prin...|      514|    12|       76|   426|\n",
      "|         El Salvador|     3191|    60|     1419|  1712|\n",
      "|               Syria|      146|     6|       62|    78|\n",
      "|            Eswatini|      371|     3|      232|   136|\n",
      "|                Chad|      844|    71|      706|    67|\n",
      "|                Togo|      501|    13|      260|   228|\n",
      "|            Thailand|     3121|    58|     2973|    90|\n",
      "|          Tajikistan|     4690|    48|     2815|  1827|\n",
      "|         Timor-Leste|       24|     0|       24|     0|\n",
      "|             Tunisia|     1087|    49|      982|    56|\n",
      "|              Turkey|   172114|  4729|   144598| 22787|\n",
      "| Trinidad and Tobago|      117|     8|      109|     0|\n",
      "|              Taiwan|      443|     7|      431|     5|\n",
      "|            Tanzania|      509|    21|      183|   305|\n",
      "|             Ukraine|    28479|   818|    12892| 14769|\n",
      "|              Uganda|      657|     0|      118|   539|\n",
      "|United States of ...|  1979411|111989|   524855|     0|\n",
      "|             Uruguay|      846|    23|      754|    69|\n",
      "|          Uzbekistan|     4520|    18|     3459|  1043|\n",
      "|Saint Vincent and...|       27|     0|       25|     2|\n",
      "|           Venezuela|     2632|    23|      487|  2122|\n",
      "|             Vietnam|      332|     0|      316|    16|\n",
      "|               Yemen|      524|   127|       23|   374|\n",
      "|        South Africa|    52991|  1162|    29006| 22823|\n",
      "|              Zambia|     1200|    10|      912|   278|\n",
      "|            Zimbabwe|      314|     4|       46|   264|\n",
      "+--------------------+---------+------+---------+------+\n",
      "\n"
     ]
    }
   ],
   "source": [
    "from pyspark.sql.functions import when, col, round\n",
    "df = df.withColumn(\"active\", when(col(\"active\")==\"\" ,0) \\\n",
    "                   .otherwise(col(\"active\"))) \\\n",
    "                   .withColumn(\"active\",col(\"active\").cast(\"Long\"))\n",
    "\n",
    "df.printSchema()\n",
    "\n",
    "df.show(200) # 181 countries are there but assuming 200"
   ]
  },
  {
   "cell_type": "markdown",
   "id": "8c99d91b",
   "metadata": {},
   "source": [
    "***"
   ]
  },
  {
   "cell_type": "markdown",
   "id": "5784b99f",
   "metadata": {},
   "source": [
    "# Contries Affected by Covid Country"
   ]
  },
  {
   "cell_type": "code",
   "execution_count": 40,
   "id": "3a036f82",
   "metadata": {},
   "outputs": [],
   "source": [
    "affected_country = df.withColumn(\"affected\",round(col(\"deaths\")/col(\"confirmed\"), 4)) \\\n",
    "                                 .sort(col(\"affected\")).collect()"
   ]
  },
  {
   "cell_type": "markdown",
   "id": "c15f5c96",
   "metadata": {},
   "source": [
    "## Most affected"
   ]
  },
  {
   "cell_type": "code",
   "execution_count": 41,
   "id": "9bdd5437",
   "metadata": {},
   "outputs": [
    {
     "name": "stdout",
     "output_type": "stream",
     "text": [
      "Country: Yemen\n",
      "Death Rate: 0.2424\n"
     ]
    }
   ],
   "source": [
    "print('Country: ' + affected_country[total_countries-1][0])\n",
    "print('Death Rate: ' + str(affected_country[total_countries-1][5]))"
   ]
  },
  {
   "cell_type": "markdown",
   "id": "72e75424",
   "metadata": {},
   "source": [
    "## Least affected"
   ]
  },
  {
   "cell_type": "code",
   "execution_count": 42,
   "id": "5cdfda49",
   "metadata": {},
   "outputs": [
    {
     "name": "stdout",
     "output_type": "stream",
     "text": [
      "Country: Bhutan\n",
      "Death Rate: 0.0\n"
     ]
    }
   ],
   "source": [
    "print('Country: ' + affected_country[0][0])\n",
    "print('Death Rate: ' + str(affected_country[0][5]))"
   ]
  },
  {
   "cell_type": "markdown",
   "id": "1a77dacf",
   "metadata": {},
   "source": [
    "***"
   ]
  },
  {
   "cell_type": "markdown",
   "id": "2596e864",
   "metadata": {},
   "source": [
    "# Countries having Confirmed Cases"
   ]
  },
  {
   "cell_type": "code",
   "execution_count": 43,
   "id": "0898e48f",
   "metadata": {},
   "outputs": [],
   "source": [
    "sort_by_total_cases_df = df.sort(col(\"confirmed\")).collect()"
   ]
  },
  {
   "cell_type": "markdown",
   "id": "803732ad",
   "metadata": {},
   "source": [
    "## Highest cases"
   ]
  },
  {
   "cell_type": "code",
   "execution_count": 44,
   "id": "29b3062a",
   "metadata": {},
   "outputs": [
    {
     "name": "stdout",
     "output_type": "stream",
     "text": [
      "Country: United States of America\n",
      "Cases: 1979411\n"
     ]
    }
   ],
   "source": [
    "print('Country: ' + sort_by_total_cases_df[total_countries-1][0])\n",
    "print('Cases: ' + str(sort_by_total_cases_df[total_countries-1][1]))"
   ]
  },
  {
   "cell_type": "markdown",
   "id": "073142f8",
   "metadata": {},
   "source": [
    "## Lowest cases"
   ]
  },
  {
   "cell_type": "code",
   "execution_count": 45,
   "id": "64f225f0",
   "metadata": {},
   "outputs": [
    {
     "name": "stdout",
     "output_type": "stream",
     "text": [
      "Country: Lesotho\n",
      "Cases: 4\n"
     ]
    }
   ],
   "source": [
    "print('Country: ' + sort_by_total_cases_df[0][0])\n",
    "print('Cases: ' + str(sort_by_total_cases_df[0][1]))"
   ]
  },
  {
   "cell_type": "markdown",
   "id": "c2203a34",
   "metadata": {},
   "source": [
    "***"
   ]
  },
  {
   "cell_type": "markdown",
   "id": "a5cfe440",
   "metadata": {},
   "source": [
    "# Total Confirmed Cases"
   ]
  },
  {
   "cell_type": "code",
   "execution_count": 46,
   "id": "599107cb",
   "metadata": {},
   "outputs": [
    {
     "name": "stdout",
     "output_type": "stream",
     "text": [
      "Cases: 7230042\n"
     ]
    }
   ],
   "source": [
    "total_cases = df.groupBy().sum(\"confirmed\").collect()\n",
    "print('Cases: ' + str(total_cases[0][0]))"
   ]
  },
  {
   "cell_type": "markdown",
   "id": "3523b67c",
   "metadata": {},
   "source": [
    "***"
   ]
  },
  {
   "cell_type": "markdown",
   "id": "c5808b1c",
   "metadata": {},
   "source": [
    "# Country's Covid Treatment Efficiency\n",
    "## (death/total cases)"
   ]
  },
  {
   "cell_type": "code",
   "execution_count": 47,
   "id": "f2f5cc68",
   "metadata": {},
   "outputs": [],
   "source": [
    "efficientdf = df.withColumn(\"efficiency\",round(col(\"recovered\")/col(\"confirmed\"), 4)) \\\n",
    "                            .sort(col(\"efficiency\")).collect()"
   ]
  },
  {
   "cell_type": "markdown",
   "id": "0f682372",
   "metadata": {},
   "source": [
    "## 1. Highest efficiency"
   ]
  },
  {
   "cell_type": "code",
   "execution_count": 48,
   "id": "64815fe8",
   "metadata": {},
   "outputs": [
    {
     "name": "stdout",
     "output_type": "stream",
     "text": [
      "Country: Timor-Leste\n",
      "Efficiently: 1.0\n"
     ]
    }
   ],
   "source": [
    "print(\"Country: \" + efficientdf[total_countries-1][0])\n",
    "print(\"Efficiently: \" + str(efficientdf[total_countries-1][5]))"
   ]
  },
  {
   "cell_type": "markdown",
   "id": "910c996c",
   "metadata": {},
   "source": [
    "## 2. Lowest efficiency"
   ]
  },
  {
   "cell_type": "code",
   "execution_count": 49,
   "id": "faff221a",
   "metadata": {},
   "outputs": [
    {
     "name": "stdout",
     "output_type": "stream",
     "text": [
      "Country: Chile\n",
      "Efficiently: 0.0\n"
     ]
    }
   ],
   "source": [
    "print(\"Country: \" + efficientdf[0][0])\n",
    "print(\"Efficiently: \" + str(efficientdf[0][5]))"
   ]
  },
  {
   "cell_type": "markdown",
   "id": "b6ae2d5e",
   "metadata": {},
   "source": [
    "***"
   ]
  },
  {
   "cell_type": "markdown",
   "id": "af8e9d45",
   "metadata": {},
   "source": [
    "# Contries still suffering covid with active cases"
   ]
  },
  {
   "cell_type": "code",
   "execution_count": 50,
   "id": "55e56745",
   "metadata": {},
   "outputs": [],
   "source": [
    "active_cases = df.sort(col(\"active\")).collect()"
   ]
  },
  {
   "cell_type": "markdown",
   "id": "153e892a",
   "metadata": {},
   "source": [
    "## Highest suffering"
   ]
  },
  {
   "cell_type": "code",
   "execution_count": 51,
   "id": "c394c6d2",
   "metadata": {},
   "outputs": [
    {
     "name": "stdout",
     "output_type": "stream",
     "text": [
      "Cases: 304360\n"
     ]
    }
   ],
   "source": [
    "print(\"Cases: \" + str(active_cases[total_countries-1][4]))"
   ]
  },
  {
   "cell_type": "markdown",
   "id": "d0369dd2",
   "metadata": {},
   "source": [
    "## Lowest suffering"
   ]
  },
  {
   "cell_type": "code",
   "execution_count": 52,
   "id": "411fc599",
   "metadata": {},
   "outputs": [
    {
     "name": "stdout",
     "output_type": "stream",
     "text": [
      "Cases: 0\n"
     ]
    }
   ],
   "source": [
    "print(\"Cases: \" + str(active_cases[0][4]))"
   ]
  },
  {
   "cell_type": "markdown",
   "id": "4acc9927",
   "metadata": {},
   "source": [
    "***"
   ]
  },
  {
   "cell_type": "markdown",
   "id": "32e35cc8",
   "metadata": {},
   "source": [
    "# Save analysis to csv file"
   ]
  },
  {
   "cell_type": "code",
   "execution_count": 53,
   "id": "069d57a9",
   "metadata": {},
   "outputs": [],
   "source": [
    "analysis = [\n",
    "    {\n",
    "        'most_affected': affected_country[total_countries-1][0],\n",
    "        'least_affected': affected_country[0][0],\n",
    "        'highest_cases': sort_by_total_cases_df[total_countries-1][0],\n",
    "        'lowest_cases': sort_by_total_cases_df[0][0],\n",
    "        'total_cases': 'All',\n",
    "        'highest_efficiency': efficientdf[total_countries-1][0],\n",
    "        'lowest_efficiency': efficientdf[0][0],\n",
    "        'highest_suffering': active_cases[total_countries-1][0],\n",
    "        'lowest_suffering': active_cases[0][0]\n",
    "    },\n",
    "    {\n",
    "        'most_affected': affected_country[total_countries-1][5],\n",
    "        'least_affected': affected_country[0][5],\n",
    "        'highest_cases': sort_by_total_cases_df[total_countries-1][1],\n",
    "        'lowest_cases': sort_by_total_cases_df[0][1],\n",
    "        'total_cases': total_cases[0][0],\n",
    "        'highest_efficiency': efficientdf[total_countries-1][5],\n",
    "        'lowest_efficiency': efficientdf[0][5],\n",
    "        'highest_suffering': active_cases[total_countries-1][4],\n",
    "        'lowest_suffering': active_cases[0][4]\n",
    "    }\n",
    "]\n",
    "\n",
    "with open(CODE_HOME + '/covid-analysis.csv', \"w\") as output_file:\n",
    "    dict_writer = csv.DictWriter(output_file, analysis[0].keys())\n",
    "    dict_writer.writeheader()\n",
    "    dict_writer.writerows(analysis)"
   ]
  },
  {
   "cell_type": "markdown",
   "id": "be9b6960",
   "metadata": {},
   "source": [
    "***"
   ]
  },
  {
   "cell_type": "markdown",
   "id": "c1544354",
   "metadata": {},
   "source": [
    "# Test REST APIs"
   ]
  },
  {
   "cell_type": "code",
   "execution_count": 54,
   "id": "6d115c91",
   "metadata": {},
   "outputs": [
    {
     "name": "stdout",
     "output_type": "stream",
     "text": [
      "=============/latest-covid-data=============\n",
      "[{\"countrycode\": \"AD\", \"country\": \"Andorra\", \"latitude\": \"42.5063\", \"longitude\": \"1.5218\", \"confirmed\": \"852\", \"deaths\": \"51\", \"recovered\": \"757\", \"active\": \"44\"}, {\"countrycode\": \"AE\", \"country\": \"United Arab Emirates\", \"latitude\": \"23.424076\", \"longitude\": \"53.847818\", \"confirmed\": \"39904\", \"deaths\": \"283\", \"recovered\": \"22740\", \"active\": \"16881\"}, {\"countrycode\": \"AF\", \"country\": \"Afghanistan\", \"latitude\": \"33.93911\", \"longitude\": \"67.709953\", \"confirmed\": \"21459\", \"deaths\": \"384\", \"recovered\": \"2651\", \"active\": \"18424\"}, {\"countrycode\": \"AG\", \"country\": \"Antigua and Barbuda\", \"latitude\": \"17.0608\", \"longitude\": \"-61.7964\", \"confirmed\": \"26\", \"deaths\": \"3\", \"recovered\": \"20\", \"active\": \"3\"}, {\"countrycode\": \"AL\", \"country\": \"Albania\", \"latitude\": \"41.1533\", \"longitude\": \"20.1683\", \"confirmed\": \"1299\", \"deaths\": \"34\", \"recovered\": \"960\", \"active\": \"305\"}, {\"countrycode\": \"AM\", \"country\": \"Armenia\", \"latitude\": \"40.0691\", \"longitude\": \"45.0382\", \"confirmed\": \"13675\", \"deaths\": \"217\", \"recovered\": \"4451\", \"active\": \"9007\"}, {\"countrycode\": \"AO\", \"country\": \"Angola\", \"latitude\": \"-11.2027\", \"longitude\": \"17.8739\", \"confirmed\": \"96\", \"deaths\": \"4\", \"recovered\": \"38\", \"active\": \"54\"}, {\"countrycode\": \"AR\", \"country\": \"Argentina\", \"latitude\": \"-38.4161\", \"longitude\": \"-63.6167\", \"confirmed\": \"24761\", \"deaths\": \"717\", \"recovered\": \"7568\", \"active\": \"16476\"}, {\"countrycode\": \"AT\", \"country\": \"Austria\", \"latitude\": \"47.5162\", \"longitude\": \"14.5501\", \"confirmed\": \"16979\", \"deaths\": \"672\", \"recovered\": \"15875\", \"active\": \"432\"}, {\"countrycode\": \"AU\", \"country\": \"Australia\", \"latitude\": \"-25.274398\", \"longitude\": \"133.775136\", \"confirmed\": \"7274\", \"deaths\": \"102\", \"recovered\": \"6740\", \"active\": \"432\"}, {\"countrycode\": \"AZ\", \"country\": \"Azerbaijan\", \"latitude\": \"40.1431\", \"longitude\": \"47.5769\", \"confirmed\": \"8191\", \"deaths\": \"98\", \"recovered\": \"4606\", \"active\": \"3487\"}, {\"countrycode\": \"BA\", \"country\": \"Bosnia and Herzegovina\", \"latitude\": \"43.9159\", \"longitude\": \"17.6791\", \"confirmed\": \"2728\", \"deaths\": \"160\", \"recovered\": \"2049\", \"active\": \"519\"}, {\"countrycode\": \"BB\", \"country\": \"Barbados\", \"latitude\": \"13.1939\", \"longitude\": \"-59.5432\", \"confirmed\": \"92\", \"deaths\": \"7\", \"recovered\": \"81\", \"active\": \"4\"}, {\"countrycode\": \"BD\", \"country\": \"Bangladesh\", \"latitude\": \"23.685\", \"longitude\": \"90.3563\", \"confirmed\": \"71675\", \"deaths\": \"975\", \"recovered\": \"15337\", \"active\": \"55363\"}, {\"countrycode\": \"BE\", \"country\": \"Belgium\", \"latitude\": \"50.8333\", \"longitude\": \"4.469936\", \"confirmed\": \"59437\", \"deaths\": \"9619\", \"recovered\": \"16324\", \"active\": \"33494\"}, {\"countrycode\": \"BF\", \"country\": \"Burkina Faso\", \"latitude\": \"12.2383\", \"longitude\": \"-1.5616\", \"confirmed\": \"891\", \"deaths\": \"53\", \"recovered\": \"765\", \"active\": \"73\"}, {\"countrycode\": \"BG\", \"country\": \"Bulgaria\", \"latitude\": \"42.7339\", \"longitude\": \"25.4858\", \"confirmed\": \"2889\", \"deaths\": \"167\", \"recovered\": \"1623\", \"active\": \"1099\"}, {\"countrycode\": \"BH\", \"country\": \"Bahrain\", \"latitude\": \"26.0275\", \"longitude\": \"50.55\", \"confirmed\": \"15731\", \"deaths\": \"29\", \"recovered\": \"10606\", \"active\": \"5096\"}, {\"countrycode\": \"BI\", \"country\": \"Burundi\", \"latitude\": \"-3.3731\", \"longitude\": \"29.9189\", \"confirmed\": \"83\", \"deaths\": \"1\", \"recovered\": \"45\", \"active\": \"37\"}, {\"countrycode\": \"BJ\", \"country\": \"Benin\", \"latitude\": \"9.3077\", \"longitude\": \"2.3158\", \"confirmed\": \"305\", \"deaths\": \"4\", \"recovered\": \"188\", \"active\": \"113\"}, {\"countrycode\": \"BO\", \"country\": \"Bolivia\", \"latitude\": \"-16.2902\", \"longitude\": \"-63.5887\", \"confirmed\": \"14644\", \"deaths\": \"487\", \"recovered\": \"2190\", \"active\": \"11967\"}, {\"countrycode\": \"BR\", \"country\": \"Brazil\", \"latitude\": \"-14.235004\", \"longitude\": \"-51.92528\", \"confirmed\": \"739503\", \"deaths\": \"38406\", \"recovered\": \"396737\", \"active\": \"304360\"}, {\"countrycode\": \"BS\", \"country\": \"Bahamas\", \"latitude\": \"25.025885\", \"longitude\": \"-78.035889\", \"confirmed\": \"103\", \"deaths\": \"11\", \"recovered\": \"64\", \"active\": \"28\"}, {\"countrycode\": \"BT\", \"country\": \"Bhutan\", \"latitude\": \"27.5142\", \"longitude\": \"90.4336\", \"confirmed\": \"59\", \"deaths\": \"0\", \"recovered\": \"17\", \"active\": \"42\"}, {\"countrycode\": \"BW\", \"country\": \"Botswana\", \"latitude\": \"-22.3285\", \"longitude\": \"24.6849\", \"confirmed\": \"42\", \"deaths\": \"1\", \"recovered\": \"24\", \"active\": \"17\"}, {\"countrycode\": \"BY\", \"country\": \"Belarus\", \"latitude\": \"53.7098\", \"longitude\": \"27.9534\", \"confirmed\": \"50265\", \"deaths\": \"282\", \"recovered\": \"24506\", \"active\": \"25477\"}, {\"countrycode\": \"BZ\", \"country\": \"Belize\", \"latitude\": \"17.1899\", \"longitude\": \"-88.4976\", \"confirmed\": \"20\", \"deaths\": \"2\", \"recovered\": \"16\", \"active\": \"2\"}, {\"countrycode\": \"CA\", \"country\": \"Canada\", \"latitude\": \"56.130366\", \"longitude\": \"-106.346771\", \"confirmed\": \"98241\", \"deaths\": \"7970\", \"recovered\": \"56117\", \"active\": \"34154\"}, {\"countrycode\": \"CD\", \"country\": \"DR Congo\", \"latitude\": \"-4.0383\", \"longitude\": \"21.7587\", \"confirmed\": \"4259\", \"deaths\": \"90\", \"recovered\": \"539\", \"active\": \"3630\"}, {\"countrycode\": \"CF\", \"country\": \"Central African Republic\", \"latitude\": \"6.6111\", \"longitude\": \"20.9394\", \"confirmed\": \"1850\", \"deaths\": \"5\", \"recovered\": \"38\", \"active\": \"1807\"}, {\"countrycode\": \"CG\", \"country\": \"Republic of the Congo\", \"latitude\": \"-0.228\", \"longitude\": \"15.8277\", \"confirmed\": \"728\", \"deaths\": \"24\", \"recovered\": \"221\", \"active\": \"483\"}, {\"countrycode\": \"CH\", \"country\": \"Switzerland\", \"latitude\": \"46.8182\", \"longitude\": \"8.2275\", \"confirmed\": \"30988\", \"deaths\": \"1934\", \"recovered\": \"28700\", \"active\": \"354\"}, {\"countrycode\": \"CL\", \"country\": \"Chile\", \"latitude\": \"-35.675147\", \"longitude\": \"-71.542969\", \"confirmed\": \"142759\", \"deaths\": \"2283\", \"recovered\": \"0\", \"active\": \"23115\"}, {\"countrycode\": \"CM\", \"country\": \"Cameroon\", \"latitude\": \"3.848\", \"longitude\": \"11.5021\", \"confirmed\": \"8312\", \"deaths\": \"212\", \"recovered\": \"4794\", \"active\": \"3306\"}, {\"countrycode\": \"CN\", \"country\": \"China\", \"latitude\": \"35.86166\", \"longitude\": \"104.195397\", \"confirmed\": \"84198\", \"deaths\": \"4638\", \"recovered\": \"79451\", \"active\": \"109\"}, {\"countrycode\": \"CO\", \"country\": \"Colombia\", \"latitude\": \"4.570868\", \"longitude\": \"-74.297333\", \"confirmed\": \"40847\", \"deaths\": \"1373\", \"recovered\": \"16459\", \"active\": \"23015\"}, {\"countrycode\": \"CR\", \"country\": \"Costa Rica\", \"latitude\": \"9.7489\", \"longitude\": \"-83.7534\", \"confirmed\": \"1375\", \"deaths\": \"11\", \"recovered\": \"717\", \"active\": \"647\"}, {\"countrycode\": \"CU\", \"country\": \"Cuba\", \"latitude\": \"21.521757\", \"longitude\": \"-77.781167\", \"confirmed\": \"2205\", \"deaths\": \"83\", \"recovered\": \"1880\", \"active\": \"242\"}, {\"countrycode\": \"CV\", \"country\": \"Cabo Verde\", \"latitude\": \"16.5388\", \"longitude\": \"-23.0418\", \"confirmed\": \"585\", \"deaths\": \"5\", \"recovered\": \"270\", \"active\": \"310\"}, {\"countrycode\": \"CY\", \"country\": \"Cyprus\", \"latitude\": \"35.1264\", \"longitude\": \"33.4299\", \"confirmed\": \"972\", \"deaths\": \"18\", \"recovered\": \"807\", \"active\": \"147\"}, {\"countrycode\": \"CZ\", \"country\": \"Czechia\", \"latitude\": \"49.8175\", \"longitude\": \"15.473\", \"confirmed\": \"9751\", \"deaths\": \"328\", \"recovered\": \"7053\", \"active\": \"2370\"}, {\"countrycode\": \"DE\", \"country\": \"Germany\", \"latitude\": \"51.165691\", \"longitude\": \"10.451526\", \"confirmed\": \"186506\", \"deaths\": \"8736\", \"recovered\": \"170129\", \"active\": \"7641\"}, {\"countrycode\": \"DJ\", \"country\": \"Djibouti\", \"latitude\": \"11.8251\", \"longitude\": \"42.5903\", \"confirmed\": \"4331\", \"deaths\": \"34\", \"recovered\": \"2139\", \"active\": \"2158\"}, {\"countrycode\": \"DK\", \"country\": \"Denmark\", \"latitude\": \"56.2639\", \"longitude\": \"9.5018\", \"confirmed\": \"12001\", \"deaths\": \"593\", \"recovered\": \"10849\", \"active\": \"559\"}, {\"countrycode\": \"DM\", \"country\": \"Dominica\", \"latitude\": \"15.415\", \"longitude\": \"-61.371\", \"confirmed\": \"18\", \"deaths\": \"0\", \"recovered\": \"16\", \"active\": \"2\"}, {\"countrycode\": \"DO\", \"country\": \"Dominican Republic\", \"latitude\": \"18.7357\", \"longitude\": \"-70.1627\", \"confirmed\": \"20415\", \"deaths\": \"544\", \"recovered\": \"12208\", \"active\": \"7663\"}, {\"countrycode\": \"DZ\", \"country\": \"Algeria\", \"latitude\": \"28.0339\", \"longitude\": \"1.6596\", \"confirmed\": \"10382\", \"deaths\": \"724\", \"recovered\": \"6951\", \"active\": \"2707\"}, {\"countrycode\": \"EC\", \"country\": \"Ecuador\", \"latitude\": \"-1.8312\", \"longitude\": \"-78.1834\", \"confirmed\": \"43917\", \"deaths\": \"3690\", \"recovered\": \"21020\", \"active\": \"19207\"}, {\"countrycode\": \"EE\", \"country\": \"Estonia\", \"latitude\": \"58.5953\", \"longitude\": \"25.0136\", \"confirmed\": \"1947\", \"deaths\": \"69\", \"recovered\": \"1684\", \"active\": \"194\"}, {\"countrycode\": \"EG\", \"country\": \"Egypt\", \"latitude\": \"26.820553\", \"longitude\": \"30.802498\", \"confirmed\": \"36829\", \"deaths\": \"1306\", \"recovered\": \"9786\", \"active\": \"25737\"}, {\"countrycode\": \"EH\", \"country\": \"Western Sahara\", \"latitude\": \"24.2155\", \"longitude\": \"-12.8858\", \"confirmed\": \"9\", \"deaths\": \"1\", \"recovered\": \"6\", \"active\": \"2\"}, {\"countrycode\": \"ER\", \"country\": \"Eritrea\", \"latitude\": \"15.1794\", \"longitude\": \"39.7823\", \"confirmed\": \"39\", \"deaths\": \"0\", \"recovered\": \"39\", \"active\": \"0\"}, {\"countrycode\": \"ES\", \"country\": \"Spain\", \"latitude\": \"40.463667\", \"longitude\": \"-3.74922\", \"confirmed\": \"241966\", \"deaths\": \"27136\", \"recovered\": \"150376\", \"active\": \"64454\"}, {\"countrycode\": \"ET\", \"country\": \"Ethiopia\", \"latitude\": \"9.145\", \"longitude\": \"40.4897\", \"confirmed\": \"2336\", \"deaths\": \"32\", \"recovered\": \"379\", \"active\": \"1925\"}, {\"countrycode\": \"FI\", \"country\": \"Finland\", \"latitude\": \"61.92411\", \"longitude\": \"25.748151\", \"confirmed\": \"7025\", \"deaths\": \"324\", \"recovered\": \"5800\", \"active\": \"901\"}, {\"countrycode\": \"FJ\", \"country\": \"Fiji\", \"latitude\": \"-17.7134\", \"longitude\": \"178.065\", \"confirmed\": \"18\", \"deaths\": \"0\", \"recovered\": \"18\", \"active\": \"0\"}, {\"countrycode\": \"FR\", \"country\": \"France\", \"latitude\": \"46.2276\", \"longitude\": \"2.2137\", \"confirmed\": \"187599\", \"deaths\": \"29237\", \"recovered\": \"68736\", \"active\": \"89626\"}, {\"countrycode\": \"GA\", \"country\": \"Gabon\", \"latitude\": \"-0.8037\", \"longitude\": \"11.6094\", \"confirmed\": \"3247\", \"deaths\": \"21\", \"recovered\": \"938\", \"active\": \"2288\"}, {\"countrycode\": \"GB\", \"country\": \"United Kingdom\", \"latitude\": \"55.3781\", \"longitude\": \"-3.436\", \"confirmed\": \"289140\", \"deaths\": \"40883\", \"recovered\": \"0\", \"active\": \"248257\"}, {\"countrycode\": \"GD\", \"country\": \"Grenada\", \"latitude\": \"12.1165\", \"longitude\": \"-61.679\", \"confirmed\": \"23\", \"deaths\": \"0\", \"recovered\": \"22\", \"active\": \"1\"}, {\"countrycode\": \"GE\", \"country\": \"Georgia\", \"latitude\": \"42.3154\", \"longitude\": \"43.3569\", \"confirmed\": \"818\", \"deaths\": \"13\", \"recovered\": \"686\", \"active\": \"119\"}, {\"countrycode\": \"GH\", \"country\": \"Ghana\", \"latitude\": \"7.9465\", \"longitude\": \"-1.0232\", \"confirmed\": \"10201\", \"deaths\": \"48\", \"recovered\": \"3755\", \"active\": \"6398\"}, {\"countrycode\": \"GM\", \"country\": \"Gambia\", \"latitude\": \"13.4432\", \"longitude\": \"-15.3101\", \"confirmed\": \"28\", \"deaths\": \"1\", \"recovered\": \"21\", \"active\": \"6\"}, {\"countrycode\": \"GN\", \"country\": \"Guinea\", \"latitude\": \"9.9456\", \"longitude\": \"-9.6966\", \"confirmed\": \"4258\", \"deaths\": \"23\", \"recovered\": \"2942\", \"active\": \"1293\"}, {\"countrycode\": \"GQ\", \"country\": \"Equatorial Guinea\", \"latitude\": \"1.6508\", \"longitude\": \"10.2679\", \"confirmed\": \"1306\", \"deaths\": \"12\", \"recovered\": \"200\", \"active\": \"1094\"}, {\"countrycode\": \"GR\", \"country\": \"Greece\", \"latitude\": \"39.0742\", \"longitude\": \"21.8243\", \"confirmed\": \"3058\", \"deaths\": \"183\", \"recovered\": \"1374\", \"active\": \"1501\"}, {\"countrycode\": \"GT\", \"country\": \"Guatemala\", \"latitude\": \"15.7835\", \"longitude\": \"-90.2308\", \"confirmed\": \"7866\", \"deaths\": \"289\", \"recovered\": \"1413\", \"active\": \"6164\"}, {\"countrycode\": \"GW\", \"country\": \"Guinea-Bissau\", \"latitude\": \"11.8037\", \"longitude\": \"-15.1804\", \"confirmed\": \"1389\", \"deaths\": \"12\", \"recovered\": \"153\", \"active\": \"1224\"}, {\"countrycode\": \"GY\", \"country\": \"Guyana\", \"latitude\": \"4.860416\", \"longitude\": \"-58.93018\", \"confirmed\": \"156\", \"deaths\": \"12\", \"recovered\": \"86\", \"active\": \"58\"}, {\"countrycode\": \"HN\", \"country\": \"Honduras\", \"latitude\": \"15.2\", \"longitude\": \"-86.2419\", \"confirmed\": \"6935\", \"deaths\": \"271\", \"recovered\": \"787\", \"active\": \"5877\"}, {\"countrycode\": \"HR\", \"country\": \"Croatia\", \"latitude\": \"45.1\", \"longitude\": \"15.2\", \"confirmed\": \"2247\", \"deaths\": \"106\", \"recovered\": \"2130\", \"active\": \"11\"}, {\"countrycode\": \"HT\", \"country\": \"Haiti\", \"latitude\": \"18.9712\", \"longitude\": \"-72.2852\", \"confirmed\": \"3662\", \"deaths\": \"56\", \"recovered\": \"24\", \"active\": \"3582\"}, {\"countrycode\": \"HU\", \"country\": \"Hungary\", \"latitude\": \"47.1625\", \"longitude\": \"19.5033\", \"confirmed\": \"4017\", \"deaths\": \"550\", \"recovered\": \"2324\", \"active\": \"1143\"}, {\"countrycode\": \"ID\", \"country\": \"Indonesia\", \"latitude\": \"-0.7893\", \"longitude\": \"113.9213\", \"confirmed\": \"33076\", \"deaths\": \"1923\", \"recovered\": \"11414\", \"active\": \"19739\"}, {\"countrycode\": \"IE\", \"country\": \"Ireland\", \"latitude\": \"53.1424\", \"longitude\": \"-7.6921\", \"confirmed\": \"25215\", \"deaths\": \"1691\", \"recovered\": \"22698\", \"active\": \"826\"}, {\"countrycode\": \"IL\", \"country\": \"Israel\", \"latitude\": \"31.046051\", \"longitude\": \"34.851612\", \"confirmed\": \"18180\", \"deaths\": \"299\", \"recovered\": \"15159\", \"active\": \"2722\"}, {\"countrycode\": \"IN\", \"country\": \"India\", \"latitude\": \"20.593684\", \"longitude\": \"78.96288\", \"confirmed\": \"276583\", \"deaths\": \"7745\", \"recovered\": \"135206\", \"active\": \"132961\"}, {\"countrycode\": \"IQ\", \"country\": \"Iraq\", \"latitude\": \"33.223191\", \"longitude\": \"43.679291\", \"confirmed\": \"14268\", \"deaths\": \"392\", \"recovered\": \"5831\", \"active\": \"8045\"}, {\"countrycode\": \"IR\", \"country\": \"Iran\", \"latitude\": \"32.427908\", \"longitude\": \"53.688046\", \"confirmed\": \"175927\", \"deaths\": \"8425\", \"recovered\": \"138457\", \"active\": \"29045\"}, {\"countrycode\": \"IS\", \"country\": \"Iceland\", \"latitude\": \"64.9631\", \"longitude\": \"-19.0208\", \"confirmed\": \"1807\", \"deaths\": \"10\", \"recovered\": \"1794\", \"active\": \"3\"}, {\"countrycode\": \"IT\", \"country\": \"Italy\", \"latitude\": \"41.87194\", \"longitude\": \"12.56738\", \"confirmed\": \"235561\", \"deaths\": \"34043\", \"recovered\": \"168646\", \"active\": \"32872\"}, {\"countrycode\": \"JM\", \"country\": \"Jamaica\", \"latitude\": \"18.1096\", \"longitude\": \"-77.2975\", \"confirmed\": \"605\", \"deaths\": \"10\", \"recovered\": \"405\", \"active\": \"190\"}, {\"countrycode\": \"JO\", \"country\": \"Jordan\", \"latitude\": \"31.24\", \"longitude\": \"36.51\", \"confirmed\": \"845\", \"deaths\": \"9\", \"recovered\": \"657\", \"active\": \"179\"}, {\"countrycode\": \"JP\", \"country\": \"Japan\", \"latitude\": \"36.204824\", \"longitude\": \"138.252924\", \"confirmed\": \"17111\", \"deaths\": \"920\", \"recovered\": \"15141\", \"active\": \"1050\"}, {\"countrycode\": \"KE\", \"country\": \"Kenya\", \"latitude\": \"-0.0236\", \"longitude\": \"37.9062\", \"confirmed\": \"2989\", \"deaths\": \"88\", \"recovered\": \"873\", \"active\": \"2028\"}, {\"countrycode\": \"KG\", \"country\": \"Kyrgyzstan\", \"latitude\": \"41.20438\", \"longitude\": \"74.766098\", \"confirmed\": \"2055\", \"deaths\": \"24\", \"recovered\": \"1483\", \"active\": \"548\"}, {\"countrycode\": \"KH\", \"country\": \"Cambodia\", \"latitude\": \"11.55\", \"longitude\": \"104.9167\", \"confirmed\": \"126\", \"deaths\": \"0\", \"recovered\": \"125\", \"active\": \"1\"}, {\"countrycode\": \"KM\", \"country\": \"Comoros\", \"latitude\": \"-11.6455\", \"longitude\": \"43.3333\", \"confirmed\": \"141\", \"deaths\": \"2\", \"recovered\": \"67\", \"active\": \"72\"}, {\"countrycode\": \"KN\", \"country\": \"Saint Kitts and Nevis\", \"latitude\": \"17.357822\", \"longitude\": \"-62.782998\", \"confirmed\": \"15\", \"deaths\": \"0\", \"recovered\": \"15\", \"active\": \"0\"}, {\"countrycode\": \"KR\", \"country\": \"South Korea\", \"latitude\": \"35.907757\", \"longitude\": \"127.766922\", \"confirmed\": \"11902\", \"deaths\": \"276\", \"recovered\": \"10611\", \"active\": \"1015\"}, {\"countrycode\": \"KW\", \"country\": \"Kuwait\", \"latitude\": \"29.31166\", \"longitude\": \"47.481766\", \"confirmed\": \"33140\", \"deaths\": \"273\", \"recovered\": \"22162\", \"active\": \"10705\"}, {\"countrycode\": \"KZ\", \"country\": \"Kazakhstan\", \"latitude\": \"48.0196\", \"longitude\": \"66.9237\", \"confirmed\": \"13074\", \"deaths\": \"61\", \"recovered\": \"8015\", \"active\": \"4998\"}, {\"countrycode\": \"LA\", \"country\": \"Laos\", \"latitude\": \"19.85627\", \"longitude\": \"102.495496\", \"confirmed\": \"19\", \"deaths\": \"0\", \"recovered\": \"19\", \"active\": \"0\"}, {\"countrycode\": \"LB\", \"country\": \"Lebanon\", \"latitude\": \"33.8547\", \"longitude\": \"35.8623\", \"confirmed\": \"1368\", \"deaths\": \"30\", \"recovered\": \"795\", \"active\": \"543\"}, {\"countrycode\": \"LC\", \"country\": \"Saint Lucia\", \"latitude\": \"13.9094\", \"longitude\": \"-60.9789\", \"confirmed\": \"19\", \"deaths\": \"0\", \"recovered\": \"18\", \"active\": \"1\"}, {\"countrycode\": \"LI\", \"country\": \"Liechtenstein\", \"latitude\": \"47.14\", \"longitude\": \"9.55\", \"confirmed\": \"82\", \"deaths\": \"1\", \"recovered\": \"55\", \"active\": \"26\"}, {\"countrycode\": \"LK\", \"country\": \"Sri Lanka\", \"latitude\": \"7.873054\", \"longitude\": \"80.771797\", \"confirmed\": \"1859\", \"deaths\": \"11\", \"recovered\": \"1057\", \"active\": \"791\"}, {\"countrycode\": \"LR\", \"country\": \"Liberia\", \"latitude\": \"6.428055\", \"longitude\": \"-9.429499\", \"confirmed\": \"383\", \"deaths\": \"31\", \"recovered\": \"199\", \"active\": \"153\"}, {\"countrycode\": \"LS\", \"country\": \"Lesotho\", \"latitude\": \"-29.609988\", \"longitude\": \"28.233608\", \"confirmed\": \"4\", \"deaths\": \"0\", \"recovered\": \"2\", \"active\": \"2\"}, {\"countrycode\": \"LT\", \"country\": \"Lithuania\", \"latitude\": \"55.1694\", \"longitude\": \"23.8813\", \"confirmed\": \"1727\", \"deaths\": \"72\", \"recovered\": \"1338\", \"active\": \"317\"}, {\"countrycode\": \"LU\", \"country\": \"Luxembourg\", \"latitude\": \"49.8153\", \"longitude\": \"6.1296\", \"confirmed\": \"4046\", \"deaths\": \"110\", \"recovered\": \"3902\", \"active\": \"34\"}, {\"countrycode\": \"LV\", \"country\": \"Latvia\", \"latitude\": \"56.8796\", \"longitude\": \"24.6032\", \"confirmed\": \"1089\", \"deaths\": \"26\", \"recovered\": \"794\", \"active\": \"269\"}, {\"countrycode\": \"LY\", \"country\": \"Libya\", \"latitude\": \"26.3351\", \"longitude\": \"17.228331\", \"confirmed\": \"359\", \"deaths\": \"5\", \"recovered\": \"58\", \"active\": \"296\"}, {\"countrycode\": \"MA\", \"country\": \"Morocco\", \"latitude\": \"31.7917\", \"longitude\": \"-7.0926\", \"confirmed\": \"8437\", \"deaths\": \"210\", \"recovered\": \"7493\", \"active\": \"734\"}, {\"countrycode\": \"MC\", \"country\": \"Monaco\", \"latitude\": \"43.7333\", \"longitude\": \"7.4167\", \"confirmed\": \"99\", \"deaths\": \"4\", \"recovered\": \"93\", \"active\": \"2\"}, {\"countrycode\": \"MD\", \"country\": \"Moldova\", \"latitude\": \"47.4116\", \"longitude\": \"28.3699\", \"confirmed\": \"10025\", \"deaths\": \"365\", \"recovered\": \"5797\", \"active\": \"3863\"}, {\"countrycode\": \"ME\", \"country\": \"Montenegro\", \"latitude\": \"42.708678\", \"longitude\": \"19.37439\", \"confirmed\": \"324\", \"deaths\": \"9\", \"recovered\": \"315\", \"active\": \"0\"}, {\"countrycode\": \"MG\", \"country\": \"Madagascar\", \"latitude\": \"-18.766947\", \"longitude\": \"46.869107\", \"confirmed\": \"1138\", \"deaths\": \"9\", \"recovered\": \"274\", \"active\": \"855\"}, {\"countrycode\": \"MK\", \"country\": \"North Macedonia\", \"latitude\": \"41.6086\", \"longitude\": \"21.7453\", \"confirmed\": \"3239\", \"deaths\": \"157\", \"recovered\": \"1658\", \"active\": \"1424\"}, {\"countrycode\": \"ML\", \"country\": \"Mali\", \"latitude\": \"17.570692\", \"longitude\": \"-3.996166\", \"confirmed\": \"1586\", \"deaths\": \"94\", \"recovered\": \"931\", \"active\": \"561\"}, {\"countrycode\": \"MN\", \"country\": \"Mongolia\", \"latitude\": \"46.8625\", \"longitude\": \"103.8467\", \"confirmed\": \"194\", \"deaths\": \"0\", \"recovered\": \"87\", \"active\": \"107\"}, {\"countrycode\": \"MR\", \"country\": \"Mauritania\", \"latitude\": \"21.0079\", \"longitude\": \"-10.9408\", \"confirmed\": \"1162\", \"deaths\": \"61\", \"recovered\": \"139\", \"active\": \"962\"}, {\"countrycode\": \"MT\", \"country\": \"Malta\", \"latitude\": \"35.9375\", \"longitude\": \"14.3754\", \"confirmed\": \"632\", \"deaths\": \"9\", \"recovered\": \"597\", \"active\": \"26\"}, {\"countrycode\": \"MU\", \"country\": \"Mauritius\", \"latitude\": \"-20.348404\", \"longitude\": \"57.552152\", \"confirmed\": \"337\", \"deaths\": \"10\", \"recovered\": \"324\", \"active\": \"3\"}, {\"countrycode\": \"MV\", \"country\": \"Maldives\", \"latitude\": \"3.2028\", \"longitude\": \"73.2207\", \"confirmed\": \"1942\", \"deaths\": \"8\", \"recovered\": \"1010\", \"active\": \"924\"}, {\"countrycode\": \"MW\", \"country\": \"Malawi\", \"latitude\": \"-13.254308\", \"longitude\": \"34.301525\", \"confirmed\": \"455\", \"deaths\": \"4\", \"recovered\": \"55\", \"active\": \"396\"}, {\"countrycode\": \"MX\", \"country\": \"Mexico\", \"latitude\": \"23.634501\", \"longitude\": \"-102.552784\", \"confirmed\": \"124301\", \"deaths\": \"14649\", \"recovered\": \"90748\", \"active\": \"18904\"}, {\"countrycode\": \"MY\", \"country\": \"Malaysia\", \"latitude\": \"4.210484\", \"longitude\": \"101.975766\", \"confirmed\": \"8336\", \"deaths\": \"117\", \"recovered\": \"6975\", \"active\": \"1244\"}, {\"countrycode\": \"MZ\", \"country\": \"Mozambique\", \"latitude\": \"-18.665695\", \"longitude\": \"35.529562\", \"confirmed\": \"453\", \"deaths\": \"2\", \"recovered\": \"136\", \"active\": \"315\"}, {\"countrycode\": \"NA\", \"country\": \"Namibia\", \"latitude\": \"-22.9576\", \"longitude\": \"18.4904\", \"confirmed\": \"31\", \"deaths\": \"0\", \"recovered\": \"16\", \"active\": \"15\"}, {\"countrycode\": \"NE\", \"country\": \"Niger\", \"latitude\": \"17.607789\", \"longitude\": \"8.081666\", \"confirmed\": \"974\", \"deaths\": \"65\", \"recovered\": \"871\", \"active\": \"38\"}, {\"countrycode\": \"NG\", \"country\": \"Nigeria\", \"latitude\": \"9.082\", \"longitude\": \"8.6753\", \"confirmed\": \"13464\", \"deaths\": \"365\", \"recovered\": \"4206\", \"active\": \"8893\"}, {\"countrycode\": \"NI\", \"country\": \"Nicaragua\", \"latitude\": \"12.865416\", \"longitude\": \"-85.207229\", \"confirmed\": \"1464\", \"deaths\": \"55\", \"recovered\": \"953\", \"active\": \"456\"}, {\"countrycode\": \"NL\", \"country\": \"Netherlands\", \"latitude\": \"52.1326\", \"longitude\": \"5.2913\", \"confirmed\": \"47903\", \"deaths\": \"6031\", \"recovered\": \"0\", \"active\": \"41872\"}, {\"countrycode\": \"NO\", \"country\": \"Norway\", \"latitude\": \"60.472\", \"longitude\": \"8.4689\", \"confirmed\": \"8576\", \"deaths\": \"239\", \"recovered\": \"8138\", \"active\": \"199\"}, {\"countrycode\": \"NP\", \"country\": \"Nepal\", \"latitude\": \"28.1667\", \"longitude\": \"84.25\", \"confirmed\": \"4086\", \"deaths\": \"15\", \"recovered\": \"584\", \"active\": \"3487\"}, {\"countrycode\": \"NZ\", \"country\": \"New Zealand\", \"latitude\": \"-40.9006\", \"longitude\": \"174.886\", \"confirmed\": \"1504\", \"deaths\": \"22\", \"recovered\": \"1482\", \"active\": \"0\"}, {\"countrycode\": \"OM\", \"country\": \"Oman\", \"latitude\": \"21.512583\", \"longitude\": \"55.923255\", \"confirmed\": \"18198\", \"deaths\": \"83\", \"recovered\": \"4152\", \"active\": \"13963\"}, {\"countrycode\": \"PA\", \"country\": \"Panama\", \"latitude\": \"8.538\", \"longitude\": \"-80.7821\", \"confirmed\": \"17233\", \"deaths\": \"403\", \"recovered\": \"10561\", \"active\": \"6269\"}, {\"countrycode\": \"PE\", \"country\": \"Peru\", \"latitude\": \"-9.189967\", \"longitude\": \"-75.015152\", \"confirmed\": \"203736\", \"deaths\": \"5738\", \"recovered\": \"0\", \"active\": \"105069\"}, {\"countrycode\": \"PG\", \"country\": \"Papua New Guinea\", \"latitude\": \"-6.314993\", \"longitude\": \"143.95555\", \"confirmed\": \"8\", \"deaths\": \"0\", \"recovered\": \"8\", \"active\": \"0\"}, {\"countrycode\": \"PH\", \"country\": \"Philippines\", \"latitude\": \"12.879721\", \"longitude\": \"121.774017\", \"confirmed\": \"22992\", \"deaths\": \"1017\", \"recovered\": \"4736\", \"active\": \"17239\"}, {\"countrycode\": \"PK\", \"country\": \"Pakistan\", \"latitude\": \"30.3753\", \"longitude\": \"69.3451\", \"confirmed\": \"113702\", \"deaths\": \"2255\", \"recovered\": \"36308\", \"active\": \"75139\"}, {\"countrycode\": \"PL\", \"country\": \"Poland\", \"latitude\": \"51.9194\", \"longitude\": \"19.1451\", \"confirmed\": \"27560\", \"deaths\": \"1183\", \"recovered\": \"13196\", \"active\": \"13181\"}, {\"countrycode\": \"PT\", \"country\": \"Portugal\", \"latitude\": \"39.3999\", \"longitude\": \"-8.2245\", \"confirmed\": \"35306\", \"deaths\": \"1492\", \"recovered\": \"21339\", \"active\": \"12475\"}, {\"countrycode\": \"PY\", \"country\": \"Paraguay\", \"latitude\": \"-23.4425\", \"longitude\": \"-58.4438\", \"confirmed\": \"1187\", \"deaths\": \"11\", \"recovered\": \"604\", \"active\": \"572\"}, {\"countrycode\": \"QA\", \"country\": \"Qatar\", \"latitude\": \"25.3548\", \"longitude\": \"51.1839\", \"confirmed\": \"71879\", \"deaths\": \"62\", \"recovered\": \"47569\", \"active\": \"24248\"}, {\"countrycode\": \"RO\", \"country\": \"Romania\", \"latitude\": \"45.9432\", \"longitude\": \"24.9668\", \"confirmed\": \"20749\", \"deaths\": \"1354\", \"recovered\": \"14910\", \"active\": \"4485\"}, {\"countrycode\": \"RS\", \"country\": \"Serbia\", \"latitude\": \"44.0165\", \"longitude\": \"21.0059\", \"confirmed\": \"11965\", \"deaths\": \"250\", \"recovered\": \"11268\", \"active\": \"447\"}, {\"countrycode\": \"RU\", \"country\": \"Russia\", \"latitude\": \"61.52401\", \"longitude\": \"105.318756\", \"confirmed\": \"484630\", \"deaths\": \"6134\", \"recovered\": \"241917\", \"active\": \"236579\"}, {\"countrycode\": \"RW\", \"country\": \"Rwanda\", \"latitude\": \"-1.9403\", \"longitude\": \"29.8739\", \"confirmed\": \"463\", \"deaths\": \"2\", \"recovered\": \"300\", \"active\": \"161\"}, {\"countrycode\": \"SA\", \"country\": \"Saudi Arabia\", \"latitude\": \"23.885942\", \"longitude\": \"45.079162\", \"confirmed\": \"108571\", \"deaths\": \"783\", \"recovered\": \"76339\", \"active\": \"31449\"}, {\"countrycode\": \"SC\", \"country\": \"Seychelles\", \"latitude\": \"-4.6796\", \"longitude\": \"55.492\", \"confirmed\": \"11\", \"deaths\": \"0\", \"recovered\": \"11\", \"active\": \"0\"}, {\"countrycode\": \"SD\", \"country\": \"Sudan\", \"latitude\": \"12.8628\", \"longitude\": \"30.2176\", \"confirmed\": \"6427\", \"deaths\": \"389\", \"recovered\": \"2127\", \"active\": \"3911\"}, {\"countrycode\": \"SE\", \"country\": \"Sweden\", \"latitude\": \"60.128161\", \"longitude\": \"18.643501\", \"confirmed\": \"45924\", \"deaths\": \"4717\", \"recovered\": \"0\", \"active\": \"41207\"}, {\"countrycode\": \"SG\", \"country\": \"Singapore\", \"latitude\": \"1.2833\", \"longitude\": \"103.8333\", \"confirmed\": \"38514\", \"deaths\": \"25\", \"recovered\": \"25877\", \"active\": \"12612\"}, {\"countrycode\": \"SI\", \"country\": \"Slovenia\", \"latitude\": \"46.1512\", \"longitude\": \"14.9955\", \"confirmed\": \"1486\", \"deaths\": \"109\", \"recovered\": \"1359\", \"active\": \"18\"}, {\"countrycode\": \"SK\", \"country\": \"Slovakia\", \"latitude\": \"48.669\", \"longitude\": \"19.699\", \"confirmed\": \"1531\", \"deaths\": \"28\", \"recovered\": \"1402\", \"active\": \"101\"}, {\"countrycode\": \"SL\", \"country\": \"Sierra Leone\", \"latitude\": \"8.460555\", \"longitude\": \"-11.779889\", \"confirmed\": \"1025\", \"deaths\": \"50\", \"recovered\": \"621\", \"active\": \"354\"}, {\"countrycode\": \"SM\", \"country\": \"San Marino\", \"latitude\": \"43.9424\", \"longitude\": \"12.4578\", \"confirmed\": \"688\", \"deaths\": \"42\", \"recovered\": \"483\", \"active\": \"163\"}, {\"countrycode\": \"SN\", \"country\": \"Senegal\", \"latitude\": \"14.4974\", \"longitude\": \"-14.4524\", \"confirmed\": \"4516\", \"deaths\": \"52\", \"recovered\": \"2809\", \"active\": \"1655\"}, {\"countrycode\": \"SO\", \"country\": \"Somalia\", \"latitude\": \"5.152149\", \"longitude\": \"46.199616\", \"confirmed\": \"2416\", \"deaths\": \"85\", \"recovered\": \"489\", \"active\": \"1842\"}, {\"countrycode\": \"SR\", \"country\": \"Suriname\", \"latitude\": \"3.9193\", \"longitude\": \"-56.0278\", \"confirmed\": \"137\", \"deaths\": \"2\", \"recovered\": \"9\", \"active\": \"126\"}, {\"countrycode\": \"SS\", \"country\": \"South Sudan\", \"latitude\": \"6.877\", \"longitude\": \"31.307\", \"confirmed\": \"1604\", \"deaths\": \"19\", \"recovered\": \"15\", \"active\": \"1570\"}, {\"countrycode\": \"ST\", \"country\": \"Sao Tome and Principe\", \"latitude\": \"0.18636\", \"longitude\": \"6.613081\", \"confirmed\": \"514\", \"deaths\": \"12\", \"recovered\": \"76\", \"active\": \"426\"}, {\"countrycode\": \"SV\", \"country\": \"El Salvador\", \"latitude\": \"13.7942\", \"longitude\": \"-88.8965\", \"confirmed\": \"3191\", \"deaths\": \"60\", \"recovered\": \"1419\", \"active\": \"1712\"}, {\"countrycode\": \"SY\", \"country\": \"Syria\", \"latitude\": \"34.802075\", \"longitude\": \"38.996815\", \"confirmed\": \"146\", \"deaths\": \"6\", \"recovered\": \"62\", \"active\": \"78\"}, {\"countrycode\": \"SZ\", \"country\": \"Eswatini\", \"latitude\": \"-26.5225\", \"longitude\": \"31.4659\", \"confirmed\": \"371\", \"deaths\": \"3\", \"recovered\": \"232\", \"active\": \"136\"}, {\"countrycode\": \"TD\", \"country\": \"Chad\", \"latitude\": \"15.4542\", \"longitude\": \"18.7322\", \"confirmed\": \"844\", \"deaths\": \"71\", \"recovered\": \"706\", \"active\": \"67\"}, {\"countrycode\": \"TG\", \"country\": \"Togo\", \"latitude\": \"8.6195\", \"longitude\": \"0.8248\", \"confirmed\": \"501\", \"deaths\": \"13\", \"recovered\": \"260\", \"active\": \"228\"}, {\"countrycode\": \"TH\", \"country\": \"Thailand\", \"latitude\": \"15.870032\", \"longitude\": \"100.992541\", \"confirmed\": \"3121\", \"deaths\": \"58\", \"recovered\": \"2973\", \"active\": \"90\"}, {\"countrycode\": \"TJ\", \"country\": \"Tajikistan\", \"latitude\": \"38.861034\", \"longitude\": \"71.276093\", \"confirmed\": \"4690\", \"deaths\": \"48\", \"recovered\": \"2815\", \"active\": \"1827\"}, {\"countrycode\": \"TL\", \"country\": \"Timor-Leste\", \"latitude\": \"-8.874217\", \"longitude\": \"125.727539\", \"confirmed\": \"24\", \"deaths\": \"0\", \"recovered\": \"24\", \"active\": \"0\"}, {\"countrycode\": \"TN\", \"country\": \"Tunisia\", \"latitude\": \"33.886917\", \"longitude\": \"9.537499\", \"confirmed\": \"1087\", \"deaths\": \"49\", \"recovered\": \"982\", \"active\": \"56\"}, {\"countrycode\": \"TR\", \"country\": \"Turkey\", \"latitude\": \"38.9637\", \"longitude\": \"35.2433\", \"confirmed\": \"172114\", \"deaths\": \"4729\", \"recovered\": \"144598\", \"active\": \"22787\"}, {\"countrycode\": \"TT\", \"country\": \"Trinidad and Tobago\", \"latitude\": \"10.6918\", \"longitude\": \"-61.2225\", \"confirmed\": \"117\", \"deaths\": \"8\", \"recovered\": \"109\", \"active\": \"0\"}, {\"countrycode\": \"TW\", \"country\": \"Taiwan\", \"latitude\": \"23.7\", \"longitude\": \"121\", \"confirmed\": \"443\", \"deaths\": \"7\", \"recovered\": \"431\", \"active\": \"5\"}, {\"countrycode\": \"TZ\", \"country\": \"Tanzania\", \"latitude\": \"-6.369028\", \"longitude\": \"34.888822\", \"confirmed\": \"509\", \"deaths\": \"21\", \"recovered\": \"183\", \"active\": \"305\"}, {\"countrycode\": \"UA\", \"country\": \"Ukraine\", \"latitude\": \"48.379433\", \"longitude\": \"31.16558\", \"confirmed\": \"28479\", \"deaths\": \"818\", \"recovered\": \"12892\", \"active\": \"14769\"}, {\"countrycode\": \"UG\", \"country\": \"Uganda\", \"latitude\": \"1.373333\", \"longitude\": \"32.290275\", \"confirmed\": \"657\", \"deaths\": \"0\", \"recovered\": \"118\", \"active\": \"539\"}, {\"countrycode\": \"US\", \"country\": \"United States of America\", \"latitude\": \"37.09024\", \"longitude\": \"-95.712891\", \"confirmed\": \"1979411\", \"deaths\": \"111989\", \"recovered\": \"524855\", \"active\": \"\"}, {\"countrycode\": \"UY\", \"country\": \"Uruguay\", \"latitude\": \"-32.5228\", \"longitude\": \"-55.7658\", \"confirmed\": \"846\", \"deaths\": \"23\", \"recovered\": \"754\", \"active\": \"69\"}, {\"countrycode\": \"UZ\", \"country\": \"Uzbekistan\", \"latitude\": \"41.377491\", \"longitude\": \"64.585262\", \"confirmed\": \"4520\", \"deaths\": \"18\", \"recovered\": \"3459\", \"active\": \"1043\"}, {\"countrycode\": \"VC\", \"country\": \"Saint Vincent and the Grenadines\", \"latitude\": \"12.9843\", \"longitude\": \"-61.2872\", \"confirmed\": \"27\", \"deaths\": \"0\", \"recovered\": \"25\", \"active\": \"2\"}, {\"countrycode\": \"VE\", \"country\": \"Venezuela\", \"latitude\": \"6.4238\", \"longitude\": \"-66.5897\", \"confirmed\": \"2632\", \"deaths\": \"23\", \"recovered\": \"487\", \"active\": \"2122\"}, {\"countrycode\": \"VN\", \"country\": \"Vietnam\", \"latitude\": \"14.058324\", \"longitude\": \"108.277199\", \"confirmed\": \"332\", \"deaths\": \"0\", \"recovered\": \"316\", \"active\": \"16\"}, {\"countrycode\": \"YE\", \"country\": \"Yemen\", \"latitude\": \"15.552727\", \"longitude\": \"48.516388\", \"confirmed\": \"524\", \"deaths\": \"127\", \"recovered\": \"23\", \"active\": \"374\"}, {\"countrycode\": \"ZA\", \"country\": \"South Africa\", \"latitude\": \"-30.5595\", \"longitude\": \"22.9375\", \"confirmed\": \"52991\", \"deaths\": \"1162\", \"recovered\": \"29006\", \"active\": \"22823\"}, {\"countrycode\": \"ZM\", \"country\": \"Zambia\", \"latitude\": \"-13.133897\", \"longitude\": \"27.849332\", \"confirmed\": \"1200\", \"deaths\": \"10\", \"recovered\": \"912\", \"active\": \"278\"}, {\"countrycode\": \"ZW\", \"country\": \"Zimbabwe\", \"latitude\": \"-19.015438\", \"longitude\": \"29.154857\", \"confirmed\": \"314\", \"deaths\": \"4\", \"recovered\": \"46\", \"active\": \"264\"}]\n",
      "\n",
      "=============/most-affected-country=============\n",
      "\"Yemen is most affected by covid with death rate 0.2424.\"\n",
      "\n",
      "=============/least-affected-country=============\n",
      "\"Bhutan is least affected by covid with death rate 0.0.\"\n",
      "\n",
      "=============/highest-cases=============\n",
      "\"United States of America is having highest confirmed covid cases 1979411.\"\n",
      "\n",
      "=============/lowest-cases=============\n",
      "\"Lesotho is having lowest confirmed covid cases 4.\"\n",
      "\n",
      "=============/total-cases=============\n",
      "\"Total confirmed covid cases Lesotho across world.\"\n",
      "\n",
      "=============/highest-covid-efficiency=============\n",
      "\"Timor-Leste has highest recoverd cases per confirmed cases with rate 1.0.\"\n",
      "\n",
      "=============/lowest-covid-efficiency=============\n",
      "\"Chile has highest recoverd cases per confirmed cases with rate 0.0.\"\n",
      "\n",
      "=============/highest-active-cases=============\n",
      "\"Brazil is most suffering from covid with 304360 active cases.\"\n",
      "\n",
      "=============/lowest-active-cases=============\n",
      "\"Eritrea is least suffering from covid with 0 active cases.\"\n",
      "\n"
     ]
    }
   ],
   "source": [
    "import requests\n",
    "\n",
    "host = \"http://127.0.0.1:5000\"\n",
    "\n",
    "\n",
    "endpoints = [\n",
    "    '/latest-covid-data',\n",
    "    '/most-affected-country',\n",
    "    '/least-affected-country',\n",
    "    '/highest-cases',\n",
    "    '/lowest-cases',\n",
    "    '/total-cases',\n",
    "    '/highest-covid-efficiency',\n",
    "    '/lowest-covid-efficiency',\n",
    "    '/highest-active-cases',\n",
    "    '/lowest-active-cases'\n",
    "]\n",
    "payload={}\n",
    "headers = {}\n",
    "\n",
    "for endpoint in endpoints:\n",
    "    url = host + endpoint\n",
    "    response = requests.request(\"GET\", url, headers=headers, data=payload)\n",
    "    print('=============' + endpoint + '=============')\n",
    "    print(response.text)\n"
   ]
  }
 ],
 "metadata": {
  "interpreter": {
   "hash": "aaf467afb350deb5b2f441890cc45684b4109d155f441026940af9f98972e61f"
  },
  "kernelspec": {
   "display_name": "Python 3 (ipykernel)",
   "language": "python",
   "name": "python3"
  },
  "language_info": {
   "codemirror_mode": {
    "name": "ipython",
    "version": 3
   },
   "file_extension": ".py",
   "mimetype": "text/x-python",
   "name": "python",
   "nbconvert_exporter": "python",
   "pygments_lexer": "ipython3",
   "version": "3.8.9"
  }
 },
 "nbformat": 4,
 "nbformat_minor": 5
}
